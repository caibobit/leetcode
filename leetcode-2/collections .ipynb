{
 "cells": [
  {
   "cell_type": "markdown",
   "metadata": {},
   "source": [
    "### colletions的使用\n",
    "这里提供一个具体方法的[链接](https://www.liaoxuefeng.com/wiki/001374738125095c955c1e6d8bb493182103fac9270762a000/001411031239400f7181f65f33a4623bc42276a605debf6000)"
   ]
  },
  {
   "cell_type": "code",
   "execution_count": 40,
   "metadata": {},
   "outputs": [
    {
     "name": "stdout",
     "output_type": "stream",
     "text": [
      "[['ate', 'tea', 'eta'], ['cai'], ['tao', 'aot']]\n"
     ]
    }
   ],
   "source": [
    "\"\"\"\n",
    "给定strs=['ate','tea','cai','tao','eta','aot']\n",
    "返回相同字幕组成的str的分类\n",
    "\"\"\"\n",
    "import collections\n",
    "strs=['ate','tea','cai','tao','eta','aot']\n",
    "#返回每个种类的个数\n",
    "count = collections.Counter([tuple(sorted(s)) for s in strs])\n",
    "#定义一个集合（控制可以返回默认值，不会报错，其他和dict定义一样）\n",
    "d = collections.defaultdict(list)\n",
    "#sort之后就可以进行分类统计\n",
    "#下面是另一种方法\n",
    "#dic = {}\n",
    "#for item in sorted(strs):\n",
    "#    sortedItem = ''.join(sorted(item))\n",
    "#    dic[sortedItem] = dic.get(sortedItem, []) + [item]\n",
    "for s in strs:\n",
    "    d[tuple(sorted(s))].append(s)\n",
    "#返回dict中的value\n",
    "res=[]\n",
    "for k ,v in d.items():\n",
    "    res.append(v)\n",
    "print (res)"
   ]
  }
 ],
 "metadata": {
  "kernelspec": {
   "display_name": "Python 3",
   "language": "python",
   "name": "python3"
  },
  "language_info": {
   "codemirror_mode": {
    "name": "ipython",
    "version": 3
   },
   "file_extension": ".py",
   "mimetype": "text/x-python",
   "name": "python",
   "nbconvert_exporter": "python",
   "pygments_lexer": "ipython3",
   "version": "3.6.1"
  }
 },
 "nbformat": 4,
 "nbformat_minor": 2
}
