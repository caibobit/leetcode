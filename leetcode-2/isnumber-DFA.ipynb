{
 "cells": [
  {
   "cell_type": "markdown",
   "metadata": {},
   "source": [
    "#### dfa算法\n",
    "①DFA全称为：Deterministic Finite Automaton,即确定有穷自动机。其特征为：有一个有限状态集合和一些从一个状态通向另一个状态的边，每条边上标记有一个符号，其中一个状态是初态，某些状态是终态。但不同于不确定的有限自动机，DFA中不会有从同一状态出发的两条边标志有相同的符号。  \n",
    "②*简单点说就是，它是是通过event和当前的state得到下一个state，即event+state=nextstate。理解为系统中有多个节点，通过传递进入的event，来确定走哪个路由至另一个节点，而节点是有限的.*  \n",
    "③dfa一般用于敏感词过滤中"
   ]
  },
  {
   "cell_type": "markdown",
   "metadata": {},
   "source": [
    "判别字符串是否是一个数字，可以构造如下的DFA树：  \n",
    "![image](https://note.youdao.com/yws/api/personal/file/DCAF142C35424D369950F835CDBC2C44?method=download&shareKey=ce46e3298a5231475203efd451e276c1)"
   ]
  },
  {
   "cell_type": "code",
   "execution_count": 1,
   "metadata": {
    "collapsed": true
   },
   "outputs": [],
   "source": [
    "#input :  a string \n",
    "#output : bool \n",
    "class Solution(object):\n",
    "    def isNumber(self, s):\n",
    "        \"\"\"\n",
    "        :type s: str\n",
    "        :rtype: bool\n",
    "        \"\"\"\n",
    "        #define a DFA\n",
    "        state = [{}, \n",
    "              {'blank': 1, 'sign': 2, 'digit':3, '.':4}, \n",
    "              {'digit':3, '.':4},\n",
    "              {'digit':3, '.':5, 'e':6, 'blank':9},\n",
    "              {'digit':5},\n",
    "              {'digit':5, 'e':6, 'blank':9},\n",
    "              {'sign':7, 'digit':8},\n",
    "              {'digit':8},\n",
    "              {'digit':8, 'blank':9},\n",
    "              {'blank':9}]\n",
    "        currentState = 1\n",
    "        for c in s:\n",
    "            if c >= '0' and c <= '9':\n",
    "                c = 'digit'\n",
    "            if c == ' ':\n",
    "                c = 'blank'\n",
    "            if c in ['+', '-']:\n",
    "                c = 'sign'\n",
    "            if c not in state[currentState].keys():\n",
    "                return False\n",
    "            currentState = state[currentState][c]\n",
    "        if currentState not in [3,5,8,9]:\n",
    "            return False\n",
    "        return True  "
   ]
  },
  {
   "cell_type": "code",
   "execution_count": 2,
   "metadata": {
    "collapsed": true
   },
   "outputs": [],
   "source": [
    "a=Solution()"
   ]
  },
  {
   "cell_type": "code",
   "execution_count": 5,
   "metadata": {
    "collapsed": true
   },
   "outputs": [],
   "source": [
    "nums = '+2.678e-1a'"
   ]
  },
  {
   "cell_type": "code",
   "execution_count": 6,
   "metadata": {},
   "outputs": [
    {
     "data": {
      "text/plain": [
       "False"
      ]
     },
     "execution_count": 6,
     "metadata": {},
     "output_type": "execute_result"
    }
   ],
   "source": [
    "a.isNumber(nums)"
   ]
  },
  {
   "cell_type": "code",
   "execution_count": 8,
   "metadata": {
    "collapsed": true
   },
   "outputs": [],
   "source": [
    "nums1 = '+2.678e-1'"
   ]
  },
  {
   "cell_type": "code",
   "execution_count": 9,
   "metadata": {},
   "outputs": [
    {
     "data": {
      "text/plain": [
       "True"
      ]
     },
     "execution_count": 9,
     "metadata": {},
     "output_type": "execute_result"
    }
   ],
   "source": [
    "a.isNumber(nums1)"
   ]
  }
 ],
 "metadata": {
  "kernelspec": {
   "display_name": "python3.6",
   "language": "python",
   "name": "python3.6"
  },
  "language_info": {
   "codemirror_mode": {
    "name": "ipython",
    "version": 3
   },
   "file_extension": ".py",
   "mimetype": "text/x-python",
   "name": "python",
   "nbconvert_exporter": "python",
   "pygments_lexer": "ipython3",
   "version": "3.6.2"
  }
 },
 "nbformat": 4,
 "nbformat_minor": 2
}
