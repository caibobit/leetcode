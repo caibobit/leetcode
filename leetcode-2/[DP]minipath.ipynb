{
 "cells": [
  {
   "cell_type": "markdown",
   "metadata": {},
   "source": [
    "Given a m x n grid filled with non-negative numbers, find a path from top left to bottom right which minimizes the sum of all numbers along its path.  \n",
    "\n",
    "Note: You can only move either down or right at any point in time.  \n",
    "\n",
    "Example 1:  \n",
    "[[1,3,1],  \n",
    " [1,5,1],  \n",
    " [4,2,1]]  \n",
    "Given the above grid map, return 7. Because the path 1→3→1→1→1 minimizes the sum."
   ]
  },
  {
   "cell_type": "code",
   "execution_count": 24,
   "metadata": {
    "collapsed": true
   },
   "outputs": [],
   "source": [
    "a=[[1,3,1],[1,5,1],[4,2,1]]"
   ]
  },
  {
   "cell_type": "code",
   "execution_count": 16,
   "metadata": {
    "collapsed": true
   },
   "outputs": [],
   "source": [
    "#使用动态规划，一步一步选取最小值\n",
    "def minPathSum(grid):\n",
    "    if not grid:\n",
    "        return None\n",
    "    m, n = len(grid), len(grid[0])\n",
    "    table = [[float('inf')] * (n + 1) for _ in range(m + 1)]\n",
    "    table[0][1] = 0\n",
    "    for i in range(1, m + 1):\n",
    "        for j in range(1, n + 1):\n",
    "            table[i][j] = min(table[i - 1][j], table[i][j - 1]) + grid[i - 1][j - 1]\n",
    "    return table[-1][-1]"
   ]
  },
  {
   "cell_type": "code",
   "execution_count": 17,
   "metadata": {},
   "outputs": [
    {
     "data": {
      "text/plain": [
       "7"
      ]
     },
     "execution_count": 17,
     "metadata": {},
     "output_type": "execute_result"
    }
   ],
   "source": [
    "minPathSum(a)"
   ]
  },
  {
   "cell_type": "code",
   "execution_count": 20,
   "metadata": {
    "collapsed": true
   },
   "outputs": [],
   "source": [
    "#直接初始化第一行第一列\n",
    "def minPathSum1(grid):\n",
    "    m = len(grid)\n",
    "    n = len(grid[0])\n",
    "    for i in range(1, n):\n",
    "        grid[0][i] += grid[0][i-1]\n",
    "    for i in range(1, m):\n",
    "        grid[i][0] += grid[i-1][0]\n",
    "    for i in range(1, m):\n",
    "        for j in range(1, n):\n",
    "            grid[i][j] += min(grid[i-1][j], grid[i][j-1])\n",
    "    return grid[-1][-1]"
   ]
  },
  {
   "cell_type": "code",
   "execution_count": 21,
   "metadata": {},
   "outputs": [
    {
     "data": {
      "text/plain": [
       "7"
      ]
     },
     "execution_count": 21,
     "metadata": {},
     "output_type": "execute_result"
    }
   ],
   "source": [
    "minPathSum1(a)"
   ]
  },
  {
   "cell_type": "code",
   "execution_count": 25,
   "metadata": {},
   "outputs": [
    {
     "name": "stdout",
     "output_type": "stream",
     "text": [
      "[5, 7, 7]\n"
     ]
    }
   ],
   "source": [
    "#获取所有的可能\n",
    "#然后使用高阶函数求和\n",
    "print (list(map(sum,a)))"
   ]
  }
 ],
 "metadata": {
  "kernelspec": {
   "display_name": "python3.6",
   "language": "python",
   "name": "python3.6"
  },
  "language_info": {
   "codemirror_mode": {
    "name": "ipython",
    "version": 3
   },
   "file_extension": ".py",
   "mimetype": "text/x-python",
   "name": "python",
   "nbconvert_exporter": "python",
   "pygments_lexer": "ipython3",
   "version": "3.6.2"
  }
 },
 "nbformat": 4,
 "nbformat_minor": 2
}
