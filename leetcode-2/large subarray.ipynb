{
 "cells": [
  {
   "cell_type": "code",
   "execution_count": 51,
   "metadata": {},
   "outputs": [],
   "source": [
    "def larsubarray(nums):\n",
    "    dp = [0 for x in range(len(nums))]\n",
    "    dp[0] = nums[0]\n",
    "    maxr = dp[0]\n",
    "    if dp[0]>0:\n",
    "        start = 0\n",
    "    for i in range(1,len(nums)):\n",
    "        if dp[i-1] < 0:\n",
    "            start = i\n",
    "        dp[i] = nums[i] + (dp[i-1] if dp[i-1] > 0 else 0)\n",
    "        if dp[i] > maxr:\n",
    "            maxr = dp[i]\n",
    "            end = i\n",
    "    return maxr , start ,end"
   ]
  },
  {
   "cell_type": "code",
   "execution_count": 56,
   "metadata": {},
   "outputs": [],
   "source": [
    "nums=[-2,1,-3,4,-1,2,1,-3,4,-5]"
   ]
  },
  {
   "cell_type": "code",
   "execution_count": 57,
   "metadata": {},
   "outputs": [
    {
     "name": "stdout",
     "output_type": "stream",
     "text": [
      "(7, 3, 8)\n"
     ]
    }
   ],
   "source": [
    "print(larsubarray(nums))"
   ]
  },
  {
   "cell_type": "code",
   "execution_count": null,
   "metadata": {
    "collapsed": true
   },
   "outputs": [],
   "source": []
  }
 ],
 "metadata": {
  "kernelspec": {
   "display_name": "python3",
   "language": "python",
   "name": "default"
  },
  "language_info": {
   "codemirror_mode": {
    "name": "ipython",
    "version": 3
   },
   "file_extension": ".py",
   "mimetype": "text/x-python",
   "name": "python",
   "nbconvert_exporter": "python",
   "pygments_lexer": "ipython3",
   "version": "3.6.1"
  }
 },
 "nbformat": 4,
 "nbformat_minor": 2
}
