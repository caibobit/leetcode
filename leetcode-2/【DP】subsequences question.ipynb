{
 "cells": [
  {
   "cell_type": "markdown",
   "metadata": {},
   "source": [
    "question:  \n",
    "给定两个字符串s,t，给出所有等于s的t的子字符串的数量。"
   ]
  },
  {
   "cell_type": "code",
   "execution_count": 6,
   "metadata": {
    "collapsed": true
   },
   "outputs": [],
   "source": [
    "#DP solution\n",
    "class Solution():\n",
    "    def distinctsq(self,s,t):\n",
    "        x,y=len(s),len(t)\n",
    "        if x==0:\n",
    "            return 1\n",
    "        elif y==0:\n",
    "            return 0\n",
    "        mem = [[0 for _ in range(y+1)] for _ in range(x+1)]\n",
    "        for i in range(y+1):\n",
    "            mem[0][i] = 1\n",
    "        for i in range(x):\n",
    "            for j in range(y):\n",
    "                if s[i]==t[j]:\n",
    "                    mem[i+1][j+1] = mem[i][j] + mem[i+1][j]\n",
    "                else:\n",
    "                    mem[i+1][j+1] = mem[i+1][j]\n",
    "        return mem[x][y]"
   ]
  },
  {
   "cell_type": "code",
   "execution_count": 7,
   "metadata": {
    "collapsed": true
   },
   "outputs": [],
   "source": [
    "a=Solution()"
   ]
  },
  {
   "cell_type": "code",
   "execution_count": 10,
   "metadata": {
    "collapsed": true
   },
   "outputs": [],
   "source": [
    "s,t='ab','acadabecfbc'"
   ]
  },
  {
   "cell_type": "code",
   "execution_count": 11,
   "metadata": {},
   "outputs": [
    {
     "data": {
      "text/plain": [
       "6"
      ]
     },
     "execution_count": 11,
     "metadata": {},
     "output_type": "execute_result"
    }
   ],
   "source": [
    "a.distinctsq(s,t)"
   ]
  },
  {
   "cell_type": "markdown",
   "metadata": {},
   "source": [
    "判断一个字符串S3是否由S1,S2交叉组成"
   ]
  },
  {
   "cell_type": "code",
   "execution_count": 3,
   "metadata": {
    "collapsed": true
   },
   "outputs": [],
   "source": [
    "#brute force暴力寻找所有的解\n",
    "class Solution1:\n",
    "    def isInterleave(self, s1, s2, s3):\n",
    "        \"\"\"\n",
    "        :type s1: str\n",
    "        :type s2: str\n",
    "        :type s3: str\n",
    "        :rtype: bool\n",
    "        \"\"\"\n",
    "        l1,l2,l3=len(s1),len(s2),len(s3)\n",
    "        if l3!=l1+l2:\n",
    "            return False\n",
    "        def isinterleave(s1,i,s2,j,res,s3):\n",
    "            if res==s3 and i==l1 and j==l2:\n",
    "                return True\n",
    "            ans = False\n",
    "            if (i<l1):\n",
    "                ans |= isinterleave(s1,i+1,s2,j,res+s1[i],s3)\n",
    "            if j<l2:\n",
    "                ans |= isinterleave(s1,i,s2,j+1,res+s2[j],s3)\n",
    "            return ans\n",
    "        return isinterleave(s1,0,s2,0,\"\",s3)"
   ]
  },
  {
   "cell_type": "code",
   "execution_count": 4,
   "metadata": {
    "collapsed": true
   },
   "outputs": [],
   "source": [
    "s1='caibonihao'\n",
    "s2='caitaonihao'\n",
    "s3='caibonicaitaohanihaoo'\n",
    "a1=Solution1()"
   ]
  },
  {
   "cell_type": "code",
   "execution_count": 6,
   "metadata": {},
   "outputs": [
    {
     "data": {
      "text/plain": [
       "True"
      ]
     },
     "execution_count": 6,
     "metadata": {},
     "output_type": "execute_result"
    }
   ],
   "source": [
    "a1.isInterleave(s1,s2,s3)"
   ]
  },
  {
   "cell_type": "code",
   "execution_count": 7,
   "metadata": {
    "collapsed": true
   },
   "outputs": [],
   "source": [
    "#DP solution\n",
    "class Solution2():\n",
    "    def isInterleave(self,s1,s2,s3):\n",
    "        #设置初始值\n",
    "        l1,l2,l3=len(s1),len(s2),len(s3)\n",
    "        dp =[[False for _ in range(l1+2)] for _ in range(l2+2)]\n",
    "        #开始遍历i,j分别代表使用了多少个l1,l2的字符数。\n",
    "        for i in range(l1+1):\n",
    "            for j in range(l2+1):\n",
    "                if i==0 and j==0:\n",
    "                    dp[i][j] = True\n",
    "                elif i==0:\n",
    "                    dp[i][j] = dp[i][j-1] and (s2[j-1]==s3[i+j-1])\n",
    "                elif j==0:\n",
    "                    dp[i][j] = dp[i-1][j] and (s1[i-1]==s3[i+j-1])\n",
    "                else:\n",
    "                    #dp[][]中的i,j代表使用了多少个字符，转化到字符中第j个字符是对应的j-1位置\n",
    "                    dp[i][j] = (dp[i][j-1] and (s2[j-1]==s3[i+j-1])) or (dp[i-1][j] and (s1[i-1]==s3[i+j-1]))\n",
    "        return dp[l1][l2]"
   ]
  },
  {
   "cell_type": "code",
   "execution_count": 8,
   "metadata": {
    "collapsed": true
   },
   "outputs": [],
   "source": [
    "a2=Solution2()"
   ]
  },
  {
   "cell_type": "code",
   "execution_count": 9,
   "metadata": {},
   "outputs": [
    {
     "data": {
      "text/plain": [
       "True"
      ]
     },
     "execution_count": 9,
     "metadata": {},
     "output_type": "execute_result"
    }
   ],
   "source": [
    "a2.isInterleave(s1,s2,s3)"
   ]
  }
 ],
 "metadata": {
  "kernelspec": {
   "display_name": "python3.6",
   "language": "python",
   "name": "python3.6"
  },
  "language_info": {
   "codemirror_mode": {
    "name": "ipython",
    "version": 3
   },
   "file_extension": ".py",
   "mimetype": "text/x-python",
   "name": "python",
   "nbconvert_exporter": "python",
   "pygments_lexer": "ipython3",
   "version": "3.6.2"
  }
 },
 "nbformat": 4,
 "nbformat_minor": 2
}
