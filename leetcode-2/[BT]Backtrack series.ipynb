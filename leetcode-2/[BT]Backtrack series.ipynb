{
 "cells": [
  {
   "cell_type": "markdown",
   "metadata": {},
   "source": [
    "## Backtracking\n",
    "回溯是 DFS 的一种，它不是用在遍历图的节点上，而是用于求解 排列组合 问题，例如有 { 'a','b','c' } 三个字符，求解所有由这三个字符排列得到的字符串。  \n",
    "在程序实现时，回溯需要注意对元素进行标记的问题。使用递归实现的回溯，在访问一个新元素进入新的递归调用，此时需要将新元素标记为已经访问，这样才能在继续递归调用时不用重复访问该元素；但是在递归返回时，需要将该元素标记为未访问，因为只需要保证在一个递归链中不同时访问一个元素，而在不同的递归链是可以访问已经访问过但是不在当前递归链中的元素。  "
   ]
  },
  {
   "cell_type": "markdown",
   "metadata": {},
   "source": [
    "### 手机的数字组合\n",
    "mapping = {'2': 'abc', '3': 'def', '4': 'ghi', '5': 'jkl',  \n",
    " '6': 'mno', '7': 'pqrs', '8': 'tuv', '9': 'wxyz'}  \n",
    " Input:Digit string \"23\"  \n",
    "Output: [\"ad\", \"ae\", \"af\", \"bd\", \"be\", \"bf\", \"cd\", \"ce\", \"cf\"].  "
   ]
  },
  {
   "cell_type": "code",
   "execution_count": null,
   "metadata": {
    "collapsed": true
   },
   "outputs": [],
   "source": [
    "def letterCombinations(digits,rescom):\n",
    "    mapping = {'2': 'abc', '3': 'def', '4': 'ghi', '5': 'jkl', \n",
    "               '6': 'mno', '7': 'pqrs', '8': 'tuv', '9': 'wxyz'}\n",
    "    if len(digits) == 0:\n",
    "        return []\n",
    "    if len(digits) == 1:\n",
    "        return list(mapping[digits[0]])\n",
    "    for s in letterCombinations(digits[:-1],rescom):\n",
    "        for c in mapping[digits[-1]]:\n",
    "            rescom.append(s+c)\n",
    "    return rescom"
   ]
  },
  {
   "cell_type": "code",
   "execution_count": null,
   "metadata": {},
   "outputs": [],
   "source": [
    "rescom = []\n",
    "letterCombinations('234',rescom)\n",
    "print(rescom)"
   ]
  },
  {
   "cell_type": "code",
   "execution_count": null,
   "metadata": {
    "collapsed": true
   },
   "outputs": [],
   "source": [
    " def letterCombinations(self, digits):\n",
    "    \"\"\"\n",
    "    :type digits: str\n",
    "    :rtype: List[str]\n",
    "    \"\"\"\n",
    "    interpret_digit = {\n",
    "        '1': '',\n",
    "        '2': 'abc',\n",
    "        '3': 'def',\n",
    "        '4': 'ghi',\n",
    "        '5': 'jkl',\n",
    "        '6': 'mno',\n",
    "        '7': 'pqrs',\n",
    "        '8': 'tuv',\n",
    "        '9': 'wxyz',\n",
    "        '0': ' '}\n",
    "    all_combinations = [''] if digits else []\n",
    "    for digit in digits:\n",
    "        current_combinations = list()\n",
    "        for letter in interpret_digit[digit]:\n",
    "            for combination in all_combinations:\n",
    "                current_combinations.append(combination + letter)\n",
    "        all_combinations = current_combinations\n",
    "    return all_combinations"
   ]
  }
 ],
 "metadata": {
  "kernelspec": {
   "display_name": "python3.6",
   "language": "python",
   "name": "python3.6"
  },
  "language_info": {
   "codemirror_mode": {
    "name": "ipython",
    "version": 3
   },
   "file_extension": ".py",
   "mimetype": "text/x-python",
   "name": "python",
   "nbconvert_exporter": "python",
   "pygments_lexer": "ipython3",
   "version": "3.6.2"
  }
 },
 "nbformat": 4,
 "nbformat_minor": 2
}
