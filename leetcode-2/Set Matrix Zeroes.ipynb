{
 "cells": [
  {
   "cell_type": "markdown",
   "metadata": {},
   "source": [
    "#### Question:\n",
    "Given a m x n matrix, if an element is 0, set its entire row and column to 0. Do it in place."
   ]
  },
  {
   "cell_type": "code",
   "execution_count": 6,
   "metadata": {
    "collapsed": true
   },
   "outputs": [],
   "source": [
    "import numpy as np\n",
    "\"\"\"\n",
    "my solution：\n",
    "通过矩阵的旋转来记录0的行和列，然后进行归0操作\n",
    "\"\"\"\n",
    "class Solution:\n",
    "    def setZeroes(self, matrix):\n",
    "        \"\"\"\n",
    "        :type matrix: List[List[int]]\n",
    "        :rtype: void Do not return anything, modify matrix in-place instead.\n",
    "        \"\"\"\n",
    "        row = len(matrix)\n",
    "        column = len(matrix[0])\n",
    "        row1 = []\n",
    "        column1 = []\n",
    "        for i in range(row):\n",
    "            if 0 in matrix[i]:\n",
    "                row1.append(i)\n",
    "        #np的用法\n",
    "        #ma = np.array(matrix)\n",
    "        #transmatrix = ma[::-1].transpose()\n",
    "        transmatrix = list(map(list,zip(*matrix[::-1])))\n",
    "        for i in range(column):\n",
    "            if 0 in transmatrix[i]:\n",
    "                column1.append(i)\n",
    "        #开始进行替换，先替换旋转之后的矩阵\n",
    "        for i in column1:\n",
    "            transmatrix[i] = [0] * row\n",
    "        #将矩阵变回原来的维度\n",
    "        #np的用法\n",
    "        #final_matrix = transmatrix.transpose()[::-1]\n",
    "        final_matrix = list(map(list,zip(*transmatrix)))[::-1]\n",
    "        for i in row1:\n",
    "            final_matrix[i] = [0] * column\n",
    "        return final_matrix"
   ]
  },
  {
   "cell_type": "code",
   "execution_count": 9,
   "metadata": {
    "collapsed": true
   },
   "outputs": [],
   "source": [
    "matrix = [[1,0,2,3],[2,1,4,7],[2,1,0,1]]"
   ]
  },
  {
   "cell_type": "code",
   "execution_count": 12,
   "metadata": {
    "collapsed": true
   },
   "outputs": [],
   "source": [
    "anothermatrix =[[0]]"
   ]
  },
  {
   "cell_type": "code",
   "execution_count": 8,
   "metadata": {
    "collapsed": true
   },
   "outputs": [],
   "source": [
    "a=Solution()"
   ]
  },
  {
   "cell_type": "code",
   "execution_count": 9,
   "metadata": {},
   "outputs": [
    {
     "data": {
      "text/plain": [
       "[[0, 0, 0, 0], [2, 0, 0, 7], [0, 0, 0, 0]]"
      ]
     },
     "execution_count": 9,
     "metadata": {},
     "output_type": "execute_result"
    }
   ],
   "source": [
    "a.setZeroes(matrix)"
   ]
  },
  {
   "cell_type": "code",
   "execution_count": 13,
   "metadata": {},
   "outputs": [
    {
     "data": {
      "text/plain": [
       "[[0]]"
      ]
     },
     "execution_count": 13,
     "metadata": {},
     "output_type": "execute_result"
    }
   ],
   "source": [
    "a.setZeroes(anothermatrix)"
   ]
  },
  {
   "cell_type": "code",
   "execution_count": 10,
   "metadata": {
    "collapsed": true
   },
   "outputs": [],
   "source": [
    "#不使用额外的空间来进行存储的算法\n",
    "#使用第一列和第一行来存储需要变换的内容。\n",
    "def setZeroes(matrix):\n",
    "    # First row has zero?\n",
    "    m, n, firstRowHasZero = len(matrix), len(matrix[0]), not all(matrix[0])\n",
    "    # Use first row/column as marker, scan the matrix\n",
    "    for i in range(1, m):\n",
    "        for j in range(n):\n",
    "            if matrix[i][j] == 0:\n",
    "                matrix[0][j] = matrix[i][0] = 0\n",
    "    # Set the zeros\n",
    "    for i in range(1, m):\n",
    "        for j in range(n - 1, -1, -1):\n",
    "            if matrix[i][0] == 0 or matrix[0][j] == 0:\n",
    "                matrix[i][j] = 0\n",
    "    # Set the zeros for the first row\n",
    "    if firstRowHasZero:\n",
    "        matrix[0] = [0] * n\n",
    "    return matrix"
   ]
  },
  {
   "cell_type": "code",
   "execution_count": 11,
   "metadata": {},
   "outputs": [
    {
     "data": {
      "text/plain": [
       "[[0, 0, 0, 0], [2, 0, 0, 7], [0, 0, 0, 0]]"
      ]
     },
     "execution_count": 11,
     "metadata": {},
     "output_type": "execute_result"
    }
   ],
   "source": [
    "setZeroes(matrix)"
   ]
  }
 ],
 "metadata": {
  "kernelspec": {
   "display_name": "python3.6",
   "language": "python",
   "name": "python3.6"
  },
  "language_info": {
   "codemirror_mode": {
    "name": "ipython",
    "version": 3
   },
   "file_extension": ".py",
   "mimetype": "text/x-python",
   "name": "python",
   "nbconvert_exporter": "python",
   "pygments_lexer": "ipython3",
   "version": "3.6.2"
  }
 },
 "nbformat": 4,
 "nbformat_minor": 2
}
