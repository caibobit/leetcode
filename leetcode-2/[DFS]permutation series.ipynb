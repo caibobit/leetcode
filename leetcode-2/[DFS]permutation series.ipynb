{
 "cells": [
  {
   "cell_type": "markdown",
   "metadata": {
    "collapsed": true
   },
   "source": [
    "### 返回一个数组的所有排列\n"
   ]
  },
  {
   "cell_type": "code",
   "execution_count": 6,
   "metadata": {
    "collapsed": true
   },
   "outputs": [],
   "source": [
    "#example [1,2,3]\n",
    "nums=[1,2,3,4]"
   ]
  },
  {
   "cell_type": "code",
   "execution_count": 7,
   "metadata": {
    "collapsed": true
   },
   "outputs": [],
   "source": [
    "def permute(nums):\n",
    "    \"\"\"\n",
    "    :type nums: List[int]\n",
    "    :rtype: List[List[int]]\n",
    "    \"\"\"\n",
    "    return [[n] + p\n",
    "        for i, n in enumerate(nums)\n",
    "        for p in permute(nums[:i] + nums[i+1:])] or [[]]"
   ]
  },
  {
   "cell_type": "code",
   "execution_count": 8,
   "metadata": {},
   "outputs": [
    {
     "name": "stdout",
     "output_type": "stream",
     "text": [
      "[[1, 2, 3, 4], [1, 2, 4, 3], [1, 3, 2, 4], [1, 3, 4, 2], [1, 4, 2, 3], [1, 4, 3, 2], [2, 1, 3, 4], [2, 1, 4, 3], [2, 3, 1, 4], [2, 3, 4, 1], [2, 4, 1, 3], [2, 4, 3, 1], [3, 1, 2, 4], [3, 1, 4, 2], [3, 2, 1, 4], [3, 2, 4, 1], [3, 4, 1, 2], [3, 4, 2, 1], [4, 1, 2, 3], [4, 1, 3, 2], [4, 2, 1, 3], [4, 2, 3, 1], [4, 3, 1, 2], [4, 3, 2, 1]]\n"
     ]
    }
   ],
   "source": [
    "print(permute(nums))"
   ]
  },
  {
   "cell_type": "code",
   "execution_count": 5,
   "metadata": {
    "collapsed": true
   },
   "outputs": [],
   "source": [
    "# DFS实现\n",
    "def permute0(nums):\n",
    "    res = []\n",
    "    dfs(nums, [], res)\n",
    "    return res\n",
    "    \n",
    "def dfs(nums, path, res):\n",
    "    if not nums:\n",
    "        res.append(path)\n",
    "        return\n",
    "        # backtracking\n",
    "    for i in range(len(nums)):\n",
    "        dfs(nums[:i]+nums[i+1:], path+[nums[i]], res)"
   ]
  },
  {
   "cell_type": "code",
   "execution_count": 6,
   "metadata": {},
   "outputs": [
    {
     "data": {
      "text/plain": [
       "[[1, 2, 3], [1, 3, 2], [2, 1, 3], [2, 3, 1], [3, 1, 2], [3, 2, 1]]"
      ]
     },
     "execution_count": 6,
     "metadata": {},
     "output_type": "execute_result"
    }
   ],
   "source": [
    "permute0([1,2,3])"
   ]
  },
  {
   "cell_type": "markdown",
   "metadata": {},
   "source": [
    "### 如果给定的数组中有重复的元素，返回不重复的排列"
   ]
  },
  {
   "cell_type": "code",
   "execution_count": null,
   "metadata": {
    "collapsed": true
   },
   "outputs": [],
   "source": [
    "#example\n",
    "nums=[1,2,3]"
   ]
  },
  {
   "cell_type": "code",
   "execution_count": null,
   "metadata": {
    "collapsed": true
   },
   "outputs": [],
   "source": [
    "#错误的返回结果\n",
    "print(permute(nums))"
   ]
  },
  {
   "cell_type": "code",
   "execution_count": null,
   "metadata": {
    "collapsed": true
   },
   "outputs": [],
   "source": [
    "def permute2(nums):\n",
    "    return [[n]+p\n",
    "           for i ,n in enumerate(nums)\n",
    "           for p in permute2(nums[:i]+nums[i+1:])\n",
    "           if n not in p] or [[]]    "
   ]
  },
  {
   "cell_type": "code",
   "execution_count": 9,
   "metadata": {
    "collapsed": true
   },
   "outputs": [],
   "source": [
    "#通过在不同的位置添加元素\n",
    "def permuteUnique1(nums):\n",
    "    ans = [[]]\n",
    "    for n in nums:\n",
    "        new_ans = []\n",
    "        for l in ans:\n",
    "            for i in range(len(l)+1):\n",
    "                new_ans.append(l[:i]+[n]+l[i:])\n",
    "                if i<len(l) and l[i]==n: break              #handles duplication\n",
    "        ans = new_ans\n",
    "    return ans"
   ]
  },
  {
   "cell_type": "code",
   "execution_count": 17,
   "metadata": {
    "collapsed": true
   },
   "outputs": [],
   "source": [
    "nums1=[1,2,3]"
   ]
  },
  {
   "cell_type": "code",
   "execution_count": 12,
   "metadata": {},
   "outputs": [
    {
     "name": "stdout",
     "output_type": "stream",
     "text": [
      "[[2, 1, 1], [1, 2, 1], [1, 1, 2]]\n"
     ]
    }
   ],
   "source": [
    "print (permuteUnique1(nums1))"
   ]
  },
  {
   "cell_type": "markdown",
   "metadata": {},
   "source": [
    "虽然要删除重复的但是在数组中使用if来作为判断的话一次都不会执行  \n",
    "但是实际上是需要执行一次的"
   ]
  },
  {
   "cell_type": "code",
   "execution_count": 16,
   "metadata": {},
   "outputs": [
    {
     "name": "stdout",
     "output_type": "stream",
     "text": [
      "1234\n"
     ]
    }
   ],
   "source": [
    "a=[1,2,3,4]\n",
    "b=map(str,a)\n",
    "print((''.join(b)))"
   ]
  },
  {
   "cell_type": "markdown",
   "metadata": {},
   "source": [
    "#### 给定一个整数n,按顺序返回第k个排列"
   ]
  },
  {
   "cell_type": "code",
   "execution_count": 46,
   "metadata": {
    "collapsed": true
   },
   "outputs": [],
   "source": [
    "class Solution:\n",
    "    def getPermutation(self, n, k):\n",
    "        \"\"\"\n",
    "        :type n: int\n",
    "        :type k: int\n",
    "        :rtype: str\n",
    "        \"\"\"\n",
    "        nums = [i+1 for i in range(n)]\n",
    "        def permute(nums):    \n",
    "            return [[n] + p\n",
    "                for i, n in enumerate(nums)\n",
    "                for p in permute(nums[:i] + nums[i+1:])] or [[]]\n",
    "        result = permute(nums)\n",
    "        result = map(str,result[k-1])\n",
    "        return (\"\".join(result))"
   ]
  },
  {
   "cell_type": "code",
   "execution_count": 47,
   "metadata": {
    "collapsed": true
   },
   "outputs": [],
   "source": [
    "a1=Solution()"
   ]
  },
  {
   "cell_type": "code",
   "execution_count": 48,
   "metadata": {},
   "outputs": [
    {
     "data": {
      "text/plain": [
       "'231'"
      ]
     },
     "execution_count": 48,
     "metadata": {},
     "output_type": "execute_result"
    }
   ],
   "source": [
    "a1.getPermutation(3,4)"
   ]
  },
  {
   "cell_type": "code",
   "execution_count": 49,
   "metadata": {
    "collapsed": true
   },
   "outputs": [],
   "source": [
    "import math"
   ]
  },
  {
   "cell_type": "code",
   "execution_count": 50,
   "metadata": {
    "collapsed": true
   },
   "outputs": [],
   "source": [
    "#另一种解法，通过判断返回的排列是以哪个数字开头的然后递归\n",
    "def getPermutation1(n, k):\n",
    "    numbers =[i for i in  range(1, n+1)]\n",
    "    permutation = ''\n",
    "    k -= 1\n",
    "    while n > 0:\n",
    "        n -= 1\n",
    "        # get the index of current digit\n",
    "        index, k = divmod(k, math.factorial(n))\n",
    "        permutation += str(numbers[index])\n",
    "        # remove handled number\n",
    "        numbers.remove(numbers[index])\n",
    "    return permutation"
   ]
  },
  {
   "cell_type": "code",
   "execution_count": 51,
   "metadata": {},
   "outputs": [
    {
     "data": {
      "text/plain": [
       "'312'"
      ]
     },
     "execution_count": 51,
     "metadata": {},
     "output_type": "execute_result"
    }
   ],
   "source": [
    "getPermutation1(3,5)"
   ]
  },
  {
   "cell_type": "markdown",
   "metadata": {},
   "source": [
    "#### 给定一个n和k，返回1到n中K个字符的所有排列\n",
    "n=4  k=2,则返回:  \n",
    "[  \n",
    "&emsp;[2,4],  \n",
    "&emsp;[3,4],  \n",
    "&emsp;[2,3],  \n",
    "&emsp;[1,2],  \n",
    "&emsp;[1,3],  \n",
    "&emsp;[1,4],  \n",
    "]"
   ]
  },
  {
   "cell_type": "code",
   "execution_count": null,
   "metadata": {
    "collapsed": true
   },
   "outputs": [],
   "source": [
    "#solution1 递归\n",
    "class Solution:\n",
    "    def combine(self, n, k):\n",
    "        if k == 0:\n",
    "            return [[]]\n",
    "        return [pre + [i] for i in range(1, n+1) for pre in self.combine(i-1, k-1)]"
   ]
  },
  {
   "cell_type": "code",
   "execution_count": null,
   "metadata": {
    "collapsed": true
   },
   "outputs": [],
   "source": [
    "a=Solution()"
   ]
  },
  {
   "cell_type": "code",
   "execution_count": null,
   "metadata": {
    "collapsed": true
   },
   "outputs": [],
   "source": [
    "a.combine(4,3)"
   ]
  },
  {
   "cell_type": "code",
   "execution_count": null,
   "metadata": {
    "collapsed": true
   },
   "outputs": [],
   "source": [
    "#solution2 迭代\n",
    "class Solution1:\n",
    "    def combine(self, n, k):\n",
    "        combs = [[]]\n",
    "        for _ in range(k):\n",
    "            combs = [[i] + c for c in combs for i in range(1, c[0] if c else n+1)]\n",
    "        return combs"
   ]
  },
  {
   "cell_type": "code",
   "execution_count": null,
   "metadata": {
    "collapsed": true
   },
   "outputs": [],
   "source": [
    "a1=Solution1()"
   ]
  },
  {
   "cell_type": "code",
   "execution_count": null,
   "metadata": {
    "collapsed": true
   },
   "outputs": [],
   "source": [
    "a1.combine(5,4)"
   ]
  },
  {
   "cell_type": "code",
   "execution_count": null,
   "metadata": {
    "collapsed": true
   },
   "outputs": [],
   "source": [
    "#使用reduce进行迭代\n",
    "class Solution3:\n",
    "    def combine(self, n, k):\n",
    "        return reduce(lambda C, _: [[i]+c for c in C for i in range(1, c[0] if c else n+1)],\n",
    "                  range(k), [[]])"
   ]
  },
  {
   "cell_type": "markdown",
   "metadata": {},
   "source": [
    "#### 给定一个数组N 返回该数组的所有子集"
   ]
  },
  {
   "cell_type": "code",
   "execution_count": null,
   "metadata": {
    "collapsed": true
   },
   "outputs": [],
   "source": [
    "#solutiion1\n",
    "class Solution4:\n",
    "    def Subset(self,nums):\n",
    "        #combine返回一个指定数组中k个元素组成的排列\n",
    "        def combine(nums, k):\n",
    "            combs = [[]]\n",
    "            n=len(nums)\n",
    "            for _ in range(k):\n",
    "                combs = [[nums[i-1]] + c for c in combs for i in range(1,c[0] if c else n+1)]\n",
    "            return combs\n",
    "        len_of_nums = len(nums)\n",
    "        result=[]\n",
    "        for i in range(1,len_of_nums+1):\n",
    "            result.extend(combine(nums,i))\n",
    "        result=list(map(sorted,result))\n",
    "        result.append([])\n",
    "        return result"
   ]
  },
  {
   "cell_type": "code",
   "execution_count": null,
   "metadata": {
    "collapsed": true
   },
   "outputs": [],
   "source": [
    "nums4=[1,2,3,4]"
   ]
  },
  {
   "cell_type": "code",
   "execution_count": null,
   "metadata": {
    "collapsed": true
   },
   "outputs": [],
   "source": [
    "a4=Solution4()"
   ]
  },
  {
   "cell_type": "code",
   "execution_count": null,
   "metadata": {
    "collapsed": true
   },
   "outputs": [],
   "source": [
    "a4.Subset(nums4)"
   ]
  },
  {
   "cell_type": "code",
   "execution_count": null,
   "metadata": {
    "collapsed": true
   },
   "outputs": [],
   "source": [
    "# DFS recursively \n",
    "def subsets1(self, nums):\n",
    "    res = []\n",
    "    self.dfs(sorted(nums), 0, [], res)\n",
    "    return res\n",
    "    \n",
    "def dfs(self, nums, index, path, res):\n",
    "    res.append(path)\n",
    "    for i in xrange(index, len(nums)):\n",
    "        self.dfs(nums, i+1, path+[nums[i]], res)"
   ]
  },
  {
   "cell_type": "code",
   "execution_count": null,
   "metadata": {
    "collapsed": true
   },
   "outputs": [],
   "source": [
    "#使用迭代的思想\n",
    "def subsets(self, nums):\n",
    "    res = [[]]\n",
    "    for num in sorted(nums):\n",
    "        res += [item+[num] for item in res]\n",
    "    return res"
   ]
  },
  {
   "cell_type": "code",
   "execution_count": null,
   "metadata": {
    "collapsed": true
   },
   "outputs": [],
   "source": [
    "#使用元组啦避免重复问题\n",
    "def subsets(self, nums):\n",
    "    res = set([()])\n",
    "    for num in sorted(nums):\n",
    "        res.update([item+(num, ) for item in res if item+(num, ) not in res])\n",
    "    return [list(item) for item in res]"
   ]
  },
  {
   "cell_type": "markdown",
   "metadata": {
    "collapsed": true
   },
   "source": [
    "## Subset question\n",
    "也就是所谓的子集问题：  \n",
    "**常见题型**  \n",
    "给定一个集合，返回该集合的所有子集（集合在题目中通过list表示）"
   ]
  },
  {
   "cell_type": "code",
   "execution_count": 16,
   "metadata": {
    "collapsed": true
   },
   "outputs": [],
   "source": [
    "#无重复\n",
    "def dfs(nums,index,path,res):\n",
    "    res.append(path)\n",
    "    for i in range(index,len(nums)):\n",
    "        dfs(nums, i+1, path+[nums[i]], res)\n",
    "#duplicate\n",
    "def dfs1(nums, index, path, res):\n",
    "    res.append(path)\n",
    "    for i in range(index, len(nums)):\n",
    "        if i>index and  nums[i] == nums[i-1]:\n",
    "            continue\n",
    "        dfs1(nums, i+1, path+[nums[i]], res)\n",
    "def subsets1(nums):\n",
    "    res = []\n",
    "    nums.sort()\n",
    "    dfs1(nums, 0, [], res)\n",
    "    return res"
   ]
  },
  {
   "cell_type": "code",
   "execution_count": 18,
   "metadata": {},
   "outputs": [
    {
     "data": {
      "text/plain": [
       "[[], [1], [1, 2], [1, 2, 2], [2], [2, 2]]"
      ]
     },
     "execution_count": 18,
     "metadata": {},
     "output_type": "execute_result"
    }
   ],
   "source": [
    "nums=[2,1,2]\n",
    "subsets1(nums)"
   ]
  },
  {
   "cell_type": "code",
   "execution_count": null,
   "metadata": {
    "collapsed": true
   },
   "outputs": [],
   "source": [
    "#迭代思路\n",
    "def subsets(nums):\n",
    "    res = [[]]\n",
    "    for num in sorted(nums):\n",
    "        res += [item+[num] for item in res]\n",
    "    return res"
   ]
  },
  {
   "cell_type": "code",
   "execution_count": null,
   "metadata": {
    "collapsed": true
   },
   "outputs": [],
   "source": [
    "subsets(nums)"
   ]
  },
  {
   "cell_type": "code",
   "execution_count": 19,
   "metadata": {
    "collapsed": true
   },
   "outputs": [],
   "source": [
    "#不包含重复解\n",
    "def subsetsWithDup(nums):\n",
    "        res = [[]]\n",
    "        nums.sort()\n",
    "        for i in range(len(nums)):\n",
    "            if i == 0 or nums[i] != nums[i - 1]:\n",
    "                l = len(res)\n",
    "            for j in range(len(res) - l, len(res)):\n",
    "                res.append(res[j] + [nums[i]])\n",
    "        return res"
   ]
  },
  {
   "cell_type": "code",
   "execution_count": 20,
   "metadata": {},
   "outputs": [
    {
     "data": {
      "text/plain": [
       "[[], [1], [2], [1, 2], [2, 2], [1, 2, 2]]"
      ]
     },
     "execution_count": 20,
     "metadata": {},
     "output_type": "execute_result"
    }
   ],
   "source": [
    "subsetsWithDup(nums)"
   ]
  },
  {
   "cell_type": "markdown",
   "metadata": {
    "collapsed": true
   },
   "source": [
    "### combination sum\n",
    "Given a set of candidate numbers (C) (without duplicates) and a target number (T), find all unique combinations in C where the candidate   numbers sums to T.  \n",
    "The same repeated number may be chosen from C unlimited number of times.  \n",
    "Note:  \n",
    "All numbers (including target) will be positive integers.  \n",
    "The solution set must not contain duplicate combinations.  \n",
    "For example, given candidate set [2, 3, 6, 7] and target 7,   \n",
    "A solution set is:   \n",
    "[  \n",
    "  [7],  \n",
    "  [2, 2, 3]  \n",
    "]  "
   ]
  },
  {
   "cell_type": "code",
   "execution_count": 1,
   "metadata": {
    "collapsed": true
   },
   "outputs": [],
   "source": [
    "def combinationSum(candidates, target):\n",
    "    res = []\n",
    "    candidates.sort()\n",
    "    dfs(candidates, target, 0, [], res)\n",
    "    return res\n",
    "    \n",
    "def dfs(nums, target, index, path, res):\n",
    "    if target < 0:\n",
    "        return  # backtracking\n",
    "    if target == 0:\n",
    "        res.append(path)\n",
    "        return \n",
    "    #如果不允许重复的使用元素，修改下面即可\n",
    "    #for i in range(index, len(nums)):\n",
    "    #if i>index and nums[i-1]==nums[i]:\n",
    "    # 关于 i<index的解释，这里不是避免解中出现重复的数字，而是避免解的不重复\n",
    "    #    continue\n",
    "    #dfs(nums, target-nums[i], i+1, path+[nums[i]], res) \n",
    "    for i in range(index, len(nums)):\n",
    "        dfs(nums, target-nums[i], i, path+[nums[i]], res)"
   ]
  },
  {
   "cell_type": "code",
   "execution_count": 4,
   "metadata": {
    "collapsed": true
   },
   "outputs": [],
   "source": [
    "candidates,target=[2,3,4,5],7"
   ]
  },
  {
   "cell_type": "code",
   "execution_count": 5,
   "metadata": {},
   "outputs": [
    {
     "data": {
      "text/plain": [
       "[[2, 2, 3], [2, 5], [3, 4]]"
      ]
     },
     "execution_count": 5,
     "metadata": {},
     "output_type": "execute_result"
    }
   ],
   "source": [
    "combinationSum(candidates,target)"
   ]
  },
  {
   "cell_type": "markdown",
   "metadata": {
    "collapsed": true
   },
   "source": [
    "## 划分回文字符串\n",
    "Given a string s, partition s such that every substring of the partition is a palindrome.  \n",
    "\n",
    "Return the minimum cuts needed for a palindrome partitioning of s.  \n",
    "\n",
    "For example, given s = \"aab\",  \n",
    "Return 1 since the palindrome partitioning [\"aa\",\"b\"] could be produced using 1 cut.  "
   ]
  },
  {
   "cell_type": "code",
   "execution_count": 125,
   "metadata": {
    "collapsed": true
   },
   "outputs": [],
   "source": [
    "#第一类，返回所有的划分\n",
    "#dfs+recursive\n",
    "def palindrome(s,path,res,lenght):\n",
    "    if not s:\n",
    "        res.append(path)\n",
    "        lenght.append(len(path))\n",
    "        return \n",
    "    for i in range(1,len(s)+1):\n",
    "        if isvalid(s[:i]):\n",
    "            palindrome(s[i:],path+[s[:i]],res,lenght)\n",
    "def isvalid(s):\n",
    "    return s==s[::-1]"
   ]
  },
  {
   "cell_type": "code",
   "execution_count": 127,
   "metadata": {},
   "outputs": [
    {
     "name": "stdout",
     "output_type": "stream",
     "text": [
      "[['a', 'a', 'b', 'a'], ['a', 'aba'], ['aa', 'b', 'a']]\n",
      "[4, 2, 3]\n"
     ]
    }
   ],
   "source": [
    "res = []\n",
    "length = []\n",
    "palindrome('aaba',[],res,length)\n",
    "print(res)\n",
    "print(length)"
   ]
  },
  {
   "cell_type": "code",
   "execution_count": 132,
   "metadata": {
    "collapsed": true
   },
   "outputs": [],
   "source": [
    "#第二类，找出最小划分\n",
    "def palindrome1(s,path):\n",
    "    global minc\n",
    "    if not s:\n",
    "        minc = min(len(path)-1,minc)\n",
    "        return \n",
    "    for i in range(1,len(s)+1):\n",
    "        if isvalid(s[:i]):\n",
    "            palindrome1(s[i:],path+[s[:i]])\n",
    "def isvalid(s):\n",
    "    return s==s[::-1]"
   ]
  },
  {
   "cell_type": "code",
   "execution_count": 133,
   "metadata": {},
   "outputs": [
    {
     "name": "stdout",
     "output_type": "stream",
     "text": [
      "1\n"
     ]
    }
   ],
   "source": [
    "minc=10\n",
    "palindrome1('aaba',[])\n",
    "print(minc)"
   ]
  },
  {
   "cell_type": "markdown",
   "metadata": {
    "collapsed": true
   },
   "source": [
    "#### Max Area of Island\n",
    "Given a non-empty 2D array grid of 0's and 1's, an island is a group of 1's (representing land) connected 4-directionally (horizontal or vertical.) You may assume all four edges of the grid are surrounded by water.  \n",
    "\n",
    "Find the maximum area of an island in the given 2D array. (If there is no island, the maximum area is 0.)  "
   ]
  },
  {
   "cell_type": "code",
   "execution_count": null,
   "metadata": {
    "collapsed": true
   },
   "outputs": [],
   "source": [
    "def maxAreaOfIsland(self, grid):\n",
    "    m, n = len(grid), len(grid[0])\n",
    "    def dfs(i, j):\n",
    "        if 0 <= i < m and 0 <= j < n and grid[i][j]:\n",
    "            grid[i][j] = 0\n",
    "            return 1 + dfs(i - 1, j) + dfs(i, j + 1) + dfs(i + 1, j) + dfs(i, j - 1)\n",
    "        return 0\n",
    "    areas = 0\n",
    "    for i in range(m):\n",
    "        for j in range(n):\n",
    "            if grid[i][j]:\n",
    "                areas =max(areas,dfs(i, j))\n",
    "    return areas"
   ]
  },
  {
   "cell_type": "markdown",
   "metadata": {},
   "source": [
    "### Friends circle\n",
    "Input:   \n",
    "[[1,1,0],  \n",
    " [1,1,1],  \n",
    " [0,1,1]]  \n",
    "Output: 1  \n",
    "Explanation:The 0th and 1st students are direct friends, the 1st and 2nd students are direct friends,   \n",
    "so the 0th and 2nd students are indirect friends. All of them are in the same friend circle, so return 1.  "
   ]
  },
  {
   "cell_type": "code",
   "execution_count": 2,
   "metadata": {
    "collapsed": true
   },
   "outputs": [],
   "source": [
    "#使用DFS+RECURSIVE\n",
    "#递归可以没有return \n",
    "def findCircleNum(A):\n",
    "    N = len(A)\n",
    "    seen = [0 for _ in range(N)]\n",
    "    def dfs(A,seen,i):\n",
    "        for j in range(N):\n",
    "            if A[i][j]==1 and not seen[j]:\n",
    "                seen[j]=1\n",
    "                dfs(A,seen,j)\n",
    "    ans = 0\n",
    "    for i in range(N):\n",
    "        if not seen[i]:\n",
    "            dfs(i)\n",
    "            ans += 1\n",
    "    return ans"
   ]
  },
  {
   "cell_type": "markdown",
   "metadata": {
    "collapsed": true
   },
   "source": [
    "### 岛屿的数量\n",
    "Example 2:  \n",
    "\n",
    "11000  \n",
    "11000  \n",
    "00100  \n",
    "00011  \n",
    "Answer: 3  "
   ]
  },
  {
   "cell_type": "code",
   "execution_count": 15,
   "metadata": {
    "collapsed": true
   },
   "outputs": [],
   "source": [
    "grid=[[\"1\",\"1\",\"0\",\"0\",\"0\"],[\"1\",\"1\",\"0\",\"0\",\"0\"],[\"0\",\"0\",\"1\",\"0\",\"0\"],[\"0\",\"0\",\"0\",\"1\",\"1\"]]"
   ]
  },
  {
   "cell_type": "code",
   "execution_count": 16,
   "metadata": {
    "collapsed": true
   },
   "outputs": [],
   "source": [
    "#思路比较简单，就是i从0到len（表示行），j从0到len（表示列），按顺序遍历\n",
    "#如何当前超出范围，或者是‘0’，直接返回不做操作，是‘1’，那么将其变为‘0’，然后递归其上下左右。\n",
    "def numsofislands(grid):\n",
    "    def dfs(i,j,grid):\n",
    "        if i<0 or i>=m or j<0 or j>=n or grid[i][j] != '1': return \n",
    "        grid[i][j] = '0'\n",
    "        dfs(i+1,j,grid)\n",
    "        dfs(i-1,j,grid)\n",
    "        dfs(i,j-1,grid)\n",
    "        dfs(i,j+1,grid)\n",
    "    m = len(grid)\n",
    "    if m==0:\n",
    "        return 0\n",
    "    n = len(grid[0])\n",
    "    count = 0\n",
    "    for i in range(m):\n",
    "        for j in range(n):\n",
    "            if grid[i][j]=='1':\n",
    "                dfs(i,j,grid)\n",
    "                count +=1\n",
    "    return count   "
   ]
  },
  {
   "cell_type": "code",
   "execution_count": 17,
   "metadata": {},
   "outputs": [
    {
     "data": {
      "text/plain": [
       "3"
      ]
     },
     "execution_count": 17,
     "metadata": {},
     "output_type": "execute_result"
    }
   ],
   "source": [
    "numsofislands(grid)"
   ]
  },
  {
   "cell_type": "markdown",
   "metadata": {
    "collapsed": true
   },
   "source": [
    "### Binary Tree Paths\n",
    "Given a binary tree, return all root-to-leaf paths."
   ]
  },
  {
   "cell_type": "code",
   "execution_count": 2,
   "metadata": {
    "collapsed": true
   },
   "outputs": [],
   "source": [
    "class TreeNode:\n",
    "    def __init__(self, x):\n",
    "        self.val = x\n",
    "        self.left = None\n",
    "        self.right = None"
   ]
  },
  {
   "cell_type": "code",
   "execution_count": 10,
   "metadata": {
    "collapsed": true
   },
   "outputs": [],
   "source": [
    "def binaryTreePaths(root):\n",
    "    def dfs(root,path,res):\n",
    "        if not root:\n",
    "            return\n",
    "        if not root.left and not root.right:\n",
    "            res.append(path+'root.val')\n",
    "            return \n",
    "        path += 'root.val'+'->'\n",
    "        dfs(root.left,path,res)\n",
    "        dfs(root.right,path,res)\n",
    "    res=[]\n",
    "    if not root:\n",
    "        return \n",
    "    path=''\n",
    "    dfs(root,path,res)\n",
    "    return res"
   ]
  },
  {
   "cell_type": "code",
   "execution_count": 11,
   "metadata": {
    "collapsed": true
   },
   "outputs": [],
   "source": [
    "root,n1,n2,n3,n4=TreeNode(1),TreeNode(2),TreeNode(3),TreeNode(4),TreeNode(5)"
   ]
  },
  {
   "cell_type": "code",
   "execution_count": 12,
   "metadata": {},
   "outputs": [],
   "source": [
    "root.left=n1\n",
    "root.right=n2\n",
    "n1.left=n3\n",
    "n2.right=n4"
   ]
  },
  {
   "cell_type": "code",
   "execution_count": 13,
   "metadata": {},
   "outputs": [
    {
     "data": {
      "text/plain": [
       "['1->2->4', '1->3->5']"
      ]
     },
     "execution_count": 13,
     "metadata": {},
     "output_type": "execute_result"
    }
   ],
   "source": [
    "binaryTreePaths(root)"
   ]
  },
  {
   "cell_type": "code",
   "execution_count": null,
   "metadata": {
    "collapsed": true
   },
   "outputs": [],
   "source": []
  }
 ],
 "metadata": {
  "kernelspec": {
   "display_name": "Python 3",
   "language": "python",
   "name": "python3"
  },
  "language_info": {
   "codemirror_mode": {
    "name": "ipython",
    "version": 3
   },
   "file_extension": ".py",
   "mimetype": "text/x-python",
   "name": "python",
   "nbconvert_exporter": "python",
   "pygments_lexer": "ipython3",
   "version": "3.6.1"
  }
 },
 "nbformat": 4,
 "nbformat_minor": 2
}
