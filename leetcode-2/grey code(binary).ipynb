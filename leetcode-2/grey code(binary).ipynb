{
 "cells": [
  {
   "cell_type": "markdown",
   "metadata": {},
   "source": [
    "#### QUESTION\n",
    "The gray code is a binary numeral system where two successive values differ in only one bit.  \n",
    "Given a non-negative integer n representing the total number of bits in the code, print the sequence of gray code. A gray code sequence must begin with 0."
   ]
  },
  {
   "cell_type": "code",
   "execution_count": 1,
   "metadata": {
    "collapsed": true
   },
   "outputs": [],
   "source": [
    "import math\n",
    "import time"
   ]
  },
  {
   "cell_type": "code",
   "execution_count": 14,
   "metadata": {
    "collapsed": true
   },
   "outputs": [],
   "source": [
    "class Solution:\n",
    "    # @return a list of integers\n",
    "    '''\n",
    "    from up to down, then left to right\n",
    "\n",
    "    0   1   11  110\n",
    "            10  111\n",
    "                101\n",
    "                100\n",
    "\n",
    "    start:      [0]\n",
    "    i = 0:      [0, 1]\n",
    "    i = 1:      [0, 1, 3, 2]\n",
    "    i = 2:      [0, 1, 3, 2, 6, 7, 5, 4]\n",
    "    '''\n",
    "    def grayCode(self, n):\n",
    "        results = [0]\n",
    "        for i in range(n):\n",
    "            results += [x + pow(2, i) for x in reversed(results)]\n",
    "        #   results += [x|(1<<i) for x in results[::-1]]\n",
    "        return results"
   ]
  },
  {
   "cell_type": "code",
   "execution_count": 15,
   "metadata": {
    "collapsed": true
   },
   "outputs": [],
   "source": [
    "a=Solution()"
   ]
  },
  {
   "cell_type": "code",
   "execution_count": 16,
   "metadata": {},
   "outputs": [
    {
     "data": {
      "text/plain": [
       "[0, 1, 3, 2, 6, 7, 5, 4, 12, 13, 15, 14, 10, 11, 9, 8]"
      ]
     },
     "execution_count": 16,
     "metadata": {},
     "output_type": "execute_result"
    }
   ],
   "source": [
    "a.grayCode(4)"
   ]
  }
 ],
 "metadata": {
  "kernelspec": {
   "display_name": "python3.6",
   "language": "python",
   "name": "python3.6"
  },
  "language_info": {
   "codemirror_mode": {
    "name": "ipython",
    "version": 3
   },
   "file_extension": ".py",
   "mimetype": "text/x-python",
   "name": "python",
   "nbconvert_exporter": "python",
   "pygments_lexer": "ipython3",
   "version": "3.6.2"
  }
 },
 "nbformat": 4,
 "nbformat_minor": 2
}
