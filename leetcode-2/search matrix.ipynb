{
 "cells": [
  {
   "cell_type": "markdown",
   "metadata": {},
   "source": [
    "#### question:\n",
    "Write an efficient algorithm that searches for a value in an m x n matrix. This matrix has the following properties:  \n",
    "1)Integers in each row are sorted from left to right.  \n",
    "2)The first integer of each row is greater than the last integer of the previous row. \n",
    "example:  \n",
    "[\n",
    "  [1,   3,  5,  7],  \n",
    "  [10, 11, 16, 20],  \n",
    "  [23, 30, 34, 50]]"
   ]
  },
  {
   "cell_type": "code",
   "execution_count": 27,
   "metadata": {
    "collapsed": true
   },
   "outputs": [],
   "source": [
    "matrix,target = [\n",
    "  [1,   3,  5,  7, 9],\n",
    "  [10, 11, 16, 20, 21],\n",
    "  [23, 30, 34, 50,90]\n",
    "],21"
   ]
  },
  {
   "cell_type": "code",
   "execution_count": 2,
   "metadata": {
    "collapsed": true
   },
   "outputs": [],
   "source": [
    "import time "
   ]
  },
  {
   "cell_type": "code",
   "execution_count": 3,
   "metadata": {
    "collapsed": true
   },
   "outputs": [],
   "source": [
    "class Solution:\n",
    "    def searchMatrix(self, matrix, target):\n",
    "        \"\"\"\n",
    "        :type matrix: List[List[int]]\n",
    "        :type target: int\n",
    "        :rtype: bool\n",
    "        \"\"\"\n",
    "        m =len(matrix)\n",
    "        for i in range(m):\n",
    "            if target in matrix[i]:\n",
    "                return True\n",
    "        return False"
   ]
  },
  {
   "cell_type": "code",
   "execution_count": 29,
   "metadata": {
    "collapsed": true
   },
   "outputs": [],
   "source": [
    "a=Solution()"
   ]
  },
  {
   "cell_type": "code",
   "execution_count": 33,
   "metadata": {},
   "outputs": [
    {
     "name": "stdout",
     "output_type": "stream",
     "text": [
      "True\n",
      "Running time: 0.00017461735296819825 Seconds\n"
     ]
    }
   ],
   "source": [
    "start = time.clock()\n",
    "print (a.searchMatrix(matrix,target))\n",
    "end = time.clock()\n",
    "print ('Running time: %s Seconds'%(end-start))"
   ]
  },
  {
   "cell_type": "code",
   "execution_count": 20,
   "metadata": {},
   "outputs": [],
   "source": [
    "#solution2 从左下角出发进行搜索\n",
    "class Solution2(object):\n",
    "    def searchMatrix(self,matrix,target):\n",
    "        m=len(matrix)\n",
    "        n=len(matrix[0])\n",
    "        i = m-1\n",
    "        j = 0\n",
    "        while (i>=0 and j<n):\n",
    "            if matrix[i][j] > target:\n",
    "                i -= 1\n",
    "            elif matrix[i][j] < target:\n",
    "                j += 1\n",
    "            else:\n",
    "                return True\n",
    "        return False"
   ]
  },
  {
   "cell_type": "code",
   "execution_count": 34,
   "metadata": {},
   "outputs": [],
   "source": [
    "a1=Solution2()"
   ]
  },
  {
   "cell_type": "code",
   "execution_count": 40,
   "metadata": {},
   "outputs": [
    {
     "name": "stdout",
     "output_type": "stream",
     "text": [
      "True\n",
      "Running time: 0.00032316062151949154 Seconds\n"
     ]
    }
   ],
   "source": [
    "start = time.clock()\n",
    "print (a1.searchMatrix(matrix,target))\n",
    "end = time.clock()\n",
    "print ('Running time: %s Seconds'%(end-start))"
   ]
  },
  {
   "cell_type": "code",
   "execution_count": 23,
   "metadata": {
    "collapsed": true
   },
   "outputs": [],
   "source": [
    "#solution3\n",
    "#将整个看成一个排列，使用二分查找\n",
    "class Solution3(object):\n",
    "    def searchMatrix(self,matrix,target):\n",
    "        m = len(matrix)\n",
    "        n = len(matrix[0])\n",
    "        l = 0\n",
    "        r = m*n\n",
    "        while l < r:\n",
    "            mid = (l+r) // 2\n",
    "            tmp = matrix[mid//n][mid%n]\n",
    "            if tmp < target:\n",
    "                l = mid +1\n",
    "            elif tmp > target:\n",
    "                r = mid\n",
    "            else:\n",
    "                return True\n",
    "        return False"
   ]
  },
  {
   "cell_type": "code",
   "execution_count": 25,
   "metadata": {
    "collapsed": true
   },
   "outputs": [],
   "source": [
    "a3=Solution()"
   ]
  },
  {
   "cell_type": "code",
   "execution_count": 42,
   "metadata": {},
   "outputs": [
    {
     "name": "stdout",
     "output_type": "stream",
     "text": [
      "True\n",
      "Runing time is: 0.0002556050394559861 Seconds\n"
     ]
    }
   ],
   "source": [
    "start =time.clock()\n",
    "print (a3.searchMatrix(matrix,target))\n",
    "end = time.clock()\n",
    "print('Runing time is: %s Seconds'%(end-start))"
   ]
  },
  {
   "cell_type": "code",
   "execution_count": null,
   "metadata": {
    "collapsed": true
   },
   "outputs": [],
   "source": []
  }
 ],
 "metadata": {
  "kernelspec": {
   "display_name": "python3.6",
   "language": "python",
   "name": "python3.6"
  },
  "language_info": {
   "codemirror_mode": {
    "name": "ipython",
    "version": 3
   },
   "file_extension": ".py",
   "mimetype": "text/x-python",
   "name": "python",
   "nbconvert_exporter": "python",
   "pygments_lexer": "ipython3",
   "version": "3.6.2"
  }
 },
 "nbformat": 4,
 "nbformat_minor": 2
}
