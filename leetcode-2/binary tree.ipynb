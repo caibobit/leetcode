{
 "cells": [
  {
   "cell_type": "markdown",
   "metadata": {},
   "source": [
    "#### binary tree question\n",
    "①给定一个二叉树（按照行数以此排序空用null表示）返回中序，前序，后续排列。  \n",
    "1.recursive solution  \n",
    "2.iterative solution"
   ]
  },
  {
   "cell_type": "code",
   "execution_count": 5,
   "metadata": {
    "collapsed": true
   },
   "outputs": [],
   "source": [
    "class TreeNode:\n",
    "    def __init__(self, x):\n",
    "        self.val = x\n",
    "        self.left = None\n",
    "        self.right = None"
   ]
  },
  {
   "cell_type": "code",
   "execution_count": 8,
   "metadata": {
    "collapsed": true
   },
   "outputs": [],
   "source": [
    "node0,node1,node2,node3=TreeNode(1),TreeNode('null'),TreeNode(2),TreeNode(3)"
   ]
  },
  {
   "cell_type": "code",
   "execution_count": 20,
   "metadata": {
    "collapsed": true
   },
   "outputs": [],
   "source": [
    "node0.left=node1\n",
    "node0.right=node2\n",
    "node2.left=node3"
   ]
  },
  {
   "cell_type": "code",
   "execution_count": 23,
   "metadata": {},
   "outputs": [
    {
     "name": "stdout",
     "output_type": "stream",
     "text": [
      "<__main__.TreeNode object at 0x00000188307F0BA8>\n"
     ]
    }
   ],
   "source": [
    "print (node0)"
   ]
  },
  {
   "cell_type": "code",
   "execution_count": 31,
   "metadata": {
    "collapsed": true
   },
   "outputs": [],
   "source": [
    "root=node0"
   ]
  },
  {
   "cell_type": "code",
   "execution_count": 41,
   "metadata": {
    "collapsed": true
   },
   "outputs": [],
   "source": [
    "#recursion solution\n",
    "class Solution0(object):\n",
    "    def inorderTraversal1(self, root):\n",
    "        res = []\n",
    "        self.helper(root, res)\n",
    "        return res\n",
    "    \n",
    "    def helper(self, root, res):\n",
    "        if root:\n",
    "            self.helper(root.left, res)\n",
    "            if root.val !='null':\n",
    "                res.append(root.val) \n",
    "            self.helper(root.right, res)"
   ]
  },
  {
   "cell_type": "code",
   "execution_count": 42,
   "metadata": {
    "collapsed": true
   },
   "outputs": [],
   "source": [
    "a0=Solution0()"
   ]
  },
  {
   "cell_type": "code",
   "execution_count": 43,
   "metadata": {},
   "outputs": [
    {
     "data": {
      "text/plain": [
       "[1, 3, 2]"
      ]
     },
     "execution_count": 43,
     "metadata": {},
     "output_type": "execute_result"
    }
   ],
   "source": [
    "a0.inorderTraversal1(root)"
   ]
  },
  {
   "cell_type": "code",
   "execution_count": 49,
   "metadata": {
    "collapsed": true
   },
   "outputs": [],
   "source": [
    "# iteratively  \n",
    "class Solution1(object):\n",
    "    def inorderTraversal(self, root):\n",
    "        res, stack = [], []\n",
    "        while True:\n",
    "            while root:\n",
    "                stack.append(root)\n",
    "                root = root.left\n",
    "            if not stack:\n",
    "                return res\n",
    "            node = stack.pop()\n",
    "            if node.val !='null':\n",
    "                res.append(node.val)\n",
    "            root = node.right"
   ]
  },
  {
   "cell_type": "code",
   "execution_count": 50,
   "metadata": {
    "collapsed": true
   },
   "outputs": [],
   "source": [
    "a1=Solution1()"
   ]
  },
  {
   "cell_type": "code",
   "execution_count": 51,
   "metadata": {},
   "outputs": [
    {
     "data": {
      "text/plain": [
       "[1, 3, 2]"
      ]
     },
     "execution_count": 51,
     "metadata": {},
     "output_type": "execute_result"
    }
   ],
   "source": [
    "a1.inorderTraversal(root)"
   ]
  },
  {
   "cell_type": "markdown",
   "metadata": {},
   "source": [
    "②question2：给定整数n，返回所有的二叉树种类"
   ]
  },
  {
   "cell_type": "code",
   "execution_count": 2,
   "metadata": {
    "collapsed": true
   },
   "outputs": [],
   "source": [
    "class Solution2():\n",
    "    def generateTrees(self, n):\n",
    "        if n==0:\n",
    "            return []\n",
    "        def node(val, left, right):\n",
    "            node = TreeNode(val)\n",
    "            node.left = left\n",
    "            node.right = right\n",
    "            return node\n",
    "        def trees(first, last):\n",
    "            return [node(root, left, right)\n",
    "                    for root in range(first, last+1)\n",
    "                    for left in trees(first, root-1)\n",
    "                    for right in trees(root+1, last)] or [None]\n",
    "        return trees(1, n)\n",
    "'''\n",
    "another solution using loop\n",
    "def generateTrees(self, n):\n",
    "    def generate(first, last):\n",
    "        trees = []\n",
    "        for root in range(first, last+1):\n",
    "            for left in generate(first, root-1):\n",
    "                for right in generate(root+1, last):\n",
    "                    node = TreeNode(root)\n",
    "                    node.left = left\n",
    "                    node.right = right\n",
    "                    trees += node,\n",
    "        return trees or [None]\n",
    "    return generate(1, n)\n",
    "'''"
   ]
  },
  {
   "cell_type": "code",
   "execution_count": 3,
   "metadata": {
    "collapsed": true
   },
   "outputs": [],
   "source": [
    "a2=Solution2()"
   ]
  },
  {
   "cell_type": "code",
   "execution_count": 7,
   "metadata": {
    "collapsed": true
   },
   "outputs": [],
   "source": [
    "res2=a2.generateTrees(3)"
   ]
  },
  {
   "cell_type": "code",
   "execution_count": 11,
   "metadata": {},
   "outputs": [
    {
     "name": "stdout",
     "output_type": "stream",
     "text": [
      "[1, 2, 3]\n",
      "[1, 3, 2]\n",
      "[2, 1, 3]\n",
      "[3, 1, 2]\n",
      "[3, 2, 1]\n"
     ]
    }
   ],
   "source": [
    "def printresult(root, res):\n",
    "    if root:\n",
    "        #if root.val !='null':\n",
    "        res.append(root.val)\n",
    "        printresult(root.left, res) \n",
    "        printresult(root.right, res)\n",
    "for root in res2:\n",
    "    res=[]\n",
    "    printresult(root,res)\n",
    "    print(res)"
   ]
  },
  {
   "cell_type": "markdown",
   "metadata": {},
   "source": [
    "③给定整数n，返回1-n的所有二叉树的排列个数。"
   ]
  },
  {
   "cell_type": "markdown",
   "metadata": {},
   "source": [
    "solution1：brute force\n",
    "直接使用上面的方法，结果返回len(res)即可\n",
    "也可以使用DP来解决问题，具体的思路见[链接](https://leetcode.com/problems/unique-binary-search-trees/discuss/31666/DP-Solution-in-6-lines-with-explanation.-F(i-n)-G(i-1)-*-G(n-i))"
   ]
  },
  {
   "cell_type": "code",
   "execution_count": 13,
   "metadata": {
    "collapsed": true
   },
   "outputs": [],
   "source": [
    "class Solution3:\n",
    "    def numTrees(self, n):\n",
    "        \"\"\"\n",
    "        :type n: int\n",
    "        :rtype: int\n",
    "        \"\"\"\n",
    "        G = [0 for _ in range(n+1)]\n",
    "        G[0],G[1]=1,1\n",
    "        for i in range(2,n+1):\n",
    "            for j in range(1,i+1):\n",
    "                G[i]+=G[j-1]*G[i-j]\n",
    "        return G[n]"
   ]
  },
  {
   "cell_type": "code",
   "execution_count": 14,
   "metadata": {
    "collapsed": true
   },
   "outputs": [],
   "source": [
    "a3=Solution3()"
   ]
  },
  {
   "cell_type": "code",
   "execution_count": 16,
   "metadata": {},
   "outputs": [
    {
     "data": {
      "text/plain": [
       "14"
      ]
     },
     "execution_count": 16,
     "metadata": {},
     "output_type": "execute_result"
    }
   ],
   "source": [
    "a3.numTrees(4)"
   ]
  },
  {
   "cell_type": "markdown",
   "metadata": {},
   "source": [
    "④二叉搜索树，判定一个数是否是二叉搜索树"
   ]
  },
  {
   "cell_type": "code",
   "execution_count": 10,
   "metadata": {
    "collapsed": true
   },
   "outputs": [],
   "source": [
    "#recusive solution\n",
    "class Solution4():\n",
    "    def searchtree(self,root):\n",
    "        def isvalid(root,lmin,lmax):\n",
    "            if not root:\n",
    "                return True\n",
    "            if root.val>=lmax or root.val<=lmin:\n",
    "                return False\n",
    "            else:\n",
    "                return (isvalid(root.left,lmin,root.val) and (isvalid(root.right,root.val,lmax)))\n",
    "        lmin = float('-inf')\n",
    "        lmax = float('inf')\n",
    "        return isvalid(root,lmin,lmax)"
   ]
  },
  {
   "cell_type": "code",
   "execution_count": 11,
   "metadata": {
    "collapsed": true
   },
   "outputs": [],
   "source": [
    "a4=Solution4()"
   ]
  },
  {
   "cell_type": "code",
   "execution_count": 54,
   "metadata": {
    "collapsed": true
   },
   "outputs": [],
   "source": [
    "n1,n2,n3,n4=TreeNode(6),TreeNode(2),TreeNode(3),TreeNode(4)"
   ]
  },
  {
   "cell_type": "code",
   "execution_count": 55,
   "metadata": {
    "collapsed": true
   },
   "outputs": [],
   "source": [
    "n3.left=n2\n",
    "n3.right=n1\n",
    "n2.left=n4\n",
    "root=n3"
   ]
  },
  {
   "cell_type": "code",
   "execution_count": 14,
   "metadata": {},
   "outputs": [
    {
     "data": {
      "text/plain": [
       "False"
      ]
     },
     "execution_count": 14,
     "metadata": {},
     "output_type": "execute_result"
    }
   ],
   "source": [
    "a4.searchtree(root)"
   ]
  },
  {
   "cell_type": "code",
   "execution_count": 45,
   "metadata": {
    "collapsed": true
   },
   "outputs": [],
   "source": [
    "#思路 通过迭代找到一个BST中的第k小元素\n",
    "# iteratively  \n",
    "class Solution5(object):\n",
    "    def kthsmall(self, root,k):\n",
    "        res, stack = [], []\n",
    "        while True:\n",
    "            while root:\n",
    "                stack.append(root)\n",
    "                root = root.left\n",
    "            if not stack:\n",
    "                return res\n",
    "            root = stack.pop()\n",
    "            k -= 1\n",
    "            if k==0:\n",
    "                break\n",
    "            root = root.right\n",
    "        return root.val"
   ]
  },
  {
   "cell_type": "code",
   "execution_count": 57,
   "metadata": {
    "collapsed": true
   },
   "outputs": [],
   "source": [
    "a5=Solution5()"
   ]
  },
  {
   "cell_type": "code",
   "execution_count": 60,
   "metadata": {},
   "outputs": [
    {
     "data": {
      "text/plain": [
       "4"
      ]
     },
     "execution_count": 60,
     "metadata": {},
     "output_type": "execute_result"
    }
   ],
   "source": [
    "a5.kthsmall(root,4)"
   ]
  },
  {
   "cell_type": "code",
   "execution_count": 10,
   "metadata": {
    "collapsed": true
   },
   "outputs": [],
   "source": [
    "#通过迭代的思路实现中序遍历二叉树，这样的话顺序就是左中右。\n",
    "#而二叉搜索树恰好满足左<中<右这样的顺序，所以只要顺着遍历的顺序一直进行判断就可以了。\n",
    "# iteratively  \n",
    "class Solution6(object):\n",
    "    def isValidBST(self, root):\n",
    "        if not root:\n",
    "            return True\n",
    "        stack ,pre= [],TreeNode(None)\n",
    "        while root or (not (not stack)):\n",
    "            while root:\n",
    "                stack.append(root)\n",
    "                root = root.left\n",
    "            root = stack.pop()\n",
    "            if pre.val and (root.val<=pre.val):\n",
    "                return False\n",
    "            pre = root\n",
    "            root = root.right\n",
    "        return True"
   ]
  },
  {
   "cell_type": "code",
   "execution_count": 11,
   "metadata": {
    "collapsed": true
   },
   "outputs": [],
   "source": [
    "a6=Solution6()"
   ]
  },
  {
   "cell_type": "code",
   "execution_count": 12,
   "metadata": {},
   "outputs": [
    {
     "data": {
      "text/plain": [
       "False"
      ]
     },
     "execution_count": 12,
     "metadata": {},
     "output_type": "execute_result"
    }
   ],
   "source": [
    "a6.isValidBST(root)"
   ]
  },
  {
   "cell_type": "markdown",
   "metadata": {},
   "source": [
    "给定一个二叉搜索树（默认两个值呗调换位置，找出并恢复）"
   ]
  },
  {
   "cell_type": "code",
   "execution_count": 21,
   "metadata": {
    "collapsed": true
   },
   "outputs": [],
   "source": [
    "class Solution7(object):\n",
    "    def mistakefind(self,root):\n",
    "        if not root:\n",
    "            return True\n",
    "        stack ,pre= [],TreeNode(float('-inf'))\n",
    "        first,second = TreeNode(None),TreeNode(None)\n",
    "        while root or (not (not stack)):\n",
    "            while root:\n",
    "                stack.append(root)\n",
    "                root = root.left\n",
    "            root = stack.pop()\n",
    "            if (first.val==None) and (root.val<=pre.val):\n",
    "                first = pre\n",
    "            if (first.val!=None) and (root.val<=pre.val):\n",
    "                second = root\n",
    "            pre = root\n",
    "            root = root.right\n",
    "        print(first.val,second.val)"
   ]
  },
  {
   "cell_type": "code",
   "execution_count": 22,
   "metadata": {
    "collapsed": true
   },
   "outputs": [],
   "source": [
    "a7=Solution7()"
   ]
  },
  {
   "cell_type": "code",
   "execution_count": 23,
   "metadata": {
    "scrolled": true
   },
   "outputs": [
    {
     "name": "stdout",
     "output_type": "stream",
     "text": [
      "4 1\n"
     ]
    }
   ],
   "source": [
    "a7.mistakefind(root)"
   ]
  },
  {
   "cell_type": "markdown",
   "metadata": {},
   "source": [
    "⑤判断一个树是否是镜像树。"
   ]
  },
  {
   "cell_type": "code",
   "execution_count": 4,
   "metadata": {
    "collapsed": true
   },
   "outputs": [],
   "source": [
    "#recusive solution\n",
    "def isSymmetric0(root):\n",
    "    def isSym(L,R):\n",
    "            if not L and not R: return True\n",
    "            if L and R and L.val == R.val: \n",
    "                return isSym(L.left, R.right) and isSym(L.right, R.left)\n",
    "            return False\n",
    "    return isSym(root, root)"
   ]
  },
  {
   "cell_type": "code",
   "execution_count": 2,
   "metadata": {
    "collapsed": true
   },
   "outputs": [],
   "source": [
    "# literate solution\n",
    "def isSymmetric(root):\n",
    "        \"\"\"\n",
    "        :type root: TreeNode\n",
    "        :rtype: bool\n",
    "        \"\"\"\n",
    "        stack = []\n",
    "        if not root:\n",
    "            return True\n",
    "        \n",
    "        if root.left:\n",
    "            if not root.right:\n",
    "                return False\n",
    "            stack.append(root.left)\n",
    "            stack.append(root.right)\n",
    "        elif root.right:\n",
    "            return False\n",
    "        while stack:\n",
    "            if len(stack)%2!=0:\n",
    "                return False\n",
    "            rleft = stack.pop()\n",
    "            rright =stack.pop()\n",
    "            if rleft.val!=rright.val:\n",
    "                return False\n",
    "            if rleft.left:\n",
    "                if not rright.right:\n",
    "                    return False\n",
    "                stack.append(rleft.left)\n",
    "                stack.append(rright.right)\n",
    "            elif rright.right:\n",
    "                return False\n",
    "            if rleft.right:\n",
    "                if not rright.left:\n",
    "                    return False\n",
    "                stack.append(rleft.right)\n",
    "                stack.append(rright.left)\n",
    "            elif rright.left:\n",
    "                return False\n",
    "        return True"
   ]
  },
  {
   "cell_type": "markdown",
   "metadata": {},
   "source": [
    "⑥从左到右，从上到下返回每行的数值"
   ]
  },
  {
   "cell_type": "code",
   "execution_count": 5,
   "metadata": {
    "collapsed": true
   },
   "outputs": [],
   "source": [
    "from collections import deque"
   ]
  },
  {
   "cell_type": "code",
   "execution_count": 12,
   "metadata": {
    "collapsed": true
   },
   "outputs": [],
   "source": [
    "#使用队列，层次遍历\n",
    "def levelOrder(root):\n",
    "    queue =deque([])\n",
    "    res = []\n",
    "    if not root:\n",
    "        return []\n",
    "    queue.append(root)\n",
    "    while queue:\n",
    "        node = queue.popleft()\n",
    "        res.append(node.val)\n",
    "        if node.left:\n",
    "            queue.append(node.left)\n",
    "        if node.right:\n",
    "            queue.append(node.right)\n",
    "    return res"
   ]
  },
  {
   "cell_type": "code",
   "execution_count": 13,
   "metadata": {},
   "outputs": [
    {
     "data": {
      "text/plain": [
       "[3, 2, 1, 4]"
      ]
     },
     "execution_count": 13,
     "metadata": {},
     "output_type": "execute_result"
    }
   ],
   "source": [
    "levelOrder(root)"
   ]
  },
  {
   "cell_type": "code",
   "execution_count": 14,
   "metadata": {
    "collapsed": true
   },
   "outputs": [],
   "source": [
    "#如果需要将每层使用一个list包装，返回[[],[],[]]的形式\n",
    "def levelOrder1(root):\n",
    "    queue =deque([])\n",
    "    res = []\n",
    "    if not root:\n",
    "        return []\n",
    "    queue.append(root)\n",
    "    while queue:\n",
    "        lenofqueue = len(queue)\n",
    "        tmp = []\n",
    "        for _ in range(lenofqueue):\n",
    "            node = queue.popleft()\n",
    "            if node.left:\n",
    "                queue.append(node.left)\n",
    "            if node.right:\n",
    "                queue.append(node.right)\n",
    "            tmp.append(node.val)\n",
    "        res.append(tmp)\n",
    "    return res"
   ]
  },
  {
   "cell_type": "code",
   "execution_count": 15,
   "metadata": {},
   "outputs": [
    {
     "data": {
      "text/plain": [
       "[[3], [2, 1], [4]]"
      ]
     },
     "execution_count": 15,
     "metadata": {},
     "output_type": "execute_result"
    }
   ],
   "source": [
    "levelOrder1(root)"
   ]
  },
  {
   "cell_type": "code",
   "execution_count": 19,
   "metadata": {
    "collapsed": true
   },
   "outputs": [],
   "source": [
    "#just using list to solve the question\n",
    "'''\n",
    "更加简洁的形式\n",
    "def levelOrder(self, root):\n",
    "    ans, level = [], [root]\n",
    "    while root and level:\n",
    "        ans.append([node.val for node in level])\n",
    "        LRpair = [(node.left, node.right) for node in level]\n",
    "        level = [leaf for LR in LRpair for leaf in LR if leaf]\n",
    "    return ans\n",
    "'''\n",
    "def levelOrder2(root):\n",
    "    if not root:\n",
    "        return []\n",
    "    ans, level = [], [root]\n",
    "    while level:\n",
    "        ans.append([node.val for node in level])\n",
    "        temp = []\n",
    "        for node in level:\n",
    "            temp.extend([node.left, node.right])\n",
    "        level = [leaf for leaf in temp if leaf]\n",
    "    return ans"
   ]
  },
  {
   "cell_type": "code",
   "execution_count": 17,
   "metadata": {},
   "outputs": [
    {
     "data": {
      "text/plain": [
       "[[3], [2, 1], [4]]"
      ]
     },
     "execution_count": 17,
     "metadata": {},
     "output_type": "execute_result"
    }
   ],
   "source": [
    "levelOrder2(root)"
   ]
  },
  {
   "cell_type": "markdown",
   "metadata": {},
   "source": [
    "⑦返回一个树的深度"
   ]
  },
  {
   "cell_type": "code",
   "execution_count": 9,
   "metadata": {
    "collapsed": true
   },
   "outputs": [],
   "source": [
    "#recursive solution\n",
    "def maxDepth(root):\n",
    "    if not root:\n",
    "        return 0\n",
    "    return 1 + max(maxDepth(root.left),maxDepth(root.right))"
   ]
  },
  {
   "cell_type": "code",
   "execution_count": 10,
   "metadata": {},
   "outputs": [
    {
     "data": {
      "text/plain": [
       "3"
      ]
     },
     "execution_count": 10,
     "metadata": {},
     "output_type": "execute_result"
    }
   ],
   "source": [
    "maxDepth(root)"
   ]
  },
  {
   "cell_type": "code",
   "execution_count": 13,
   "metadata": {
    "collapsed": true
   },
   "outputs": [],
   "source": [
    "#层次遍历\n",
    "def maxDepth1(root):\n",
    "    \"\"\"\n",
    "    :type root: TreeNode\n",
    "    :rtype: int\n",
    "    \"\"\"\n",
    "    stack = []\n",
    "    if not root:\n",
    "        return 0\n",
    "    stack.append(root)\n",
    "    height = 0\n",
    "    while stack:\n",
    "        lenofqueue = len(stack)\n",
    "        for _ in range(lenofqueue):\n",
    "            node = stack.pop(0)\n",
    "            if node.left:\n",
    "                stack.append(node.left)\n",
    "            if node.right:\n",
    "                stack.append(node.right)\n",
    "        height+=1\n",
    "    return height"
   ]
  },
  {
   "cell_type": "code",
   "execution_count": 14,
   "metadata": {},
   "outputs": [
    {
     "data": {
      "text/plain": [
       "3"
      ]
     },
     "execution_count": 14,
     "metadata": {},
     "output_type": "execute_result"
    }
   ],
   "source": [
    "maxDepth1(root)"
   ]
  },
  {
   "cell_type": "markdown",
   "metadata": {},
   "source": [
    "⑧Given preorder and inorder traversal of a tree, construct the binary tree.  \n",
    "**给定一个树的两种排列（先序，中序，后续）可以唯一确定一个数的是**   \n",
    "1.先序，中序、\n",
    "2.中序，后续"
   ]
  },
  {
   "cell_type": "code",
   "execution_count": 17,
   "metadata": {
    "collapsed": true
   },
   "outputs": [],
   "source": [
    "#1先序，中序\n",
    "class Solution8:\n",
    "    def buildTree(self, preorder, inorder):\n",
    "        \"\"\"\n",
    "        :type preorder: List[int]\n",
    "        :type inorder: List[int]\n",
    "        :rtype: TreeNode\n",
    "        \"\"\"\n",
    "        if not preorder and not inorder:\n",
    "            return \n",
    "        root = TreeNode(None)\n",
    "        root.val = preorder[0]\n",
    "        index = inorder.index(root.val)\n",
    "        root.left=self.buildTree(preorder[1:index+1],inorder[:index])\n",
    "        root.right = self.buildTree(preorder[index+1:],inorder[index+1:])\n",
    "        return root"
   ]
  },
  {
   "cell_type": "code",
   "execution_count": 55,
   "metadata": {
    "collapsed": true
   },
   "outputs": [],
   "source": [
    "#2.中序，后序\n",
    "def buildTree2(inorder,postorder):\n",
    "    if postorder:\n",
    "        root = TreeNode(postorder[-1])\n",
    "        index = inorder.index(root.val)\n",
    "        root.left=buildTree2(inorder[:index],postorder[:index])\n",
    "        root.right =buildTree2(inorder[index+1:],postorder[index:-1])\n",
    "        return root"
   ]
  },
  {
   "cell_type": "markdown",
   "metadata": {},
   "source": [
    "⑨给定升序排列好的列表或者是链表，返回BST（二叉搜索树）"
   ]
  },
  {
   "cell_type": "code",
   "execution_count": 8,
   "metadata": {
    "collapsed": true
   },
   "outputs": [],
   "source": [
    "#array \n",
    "def sortedArrayToBST(nums):\n",
    "    \"\"\"\n",
    "    :type nums: List[int]\n",
    "    :rtype: TreeNode\n",
    "    \"\"\"\n",
    "    if not nums:\n",
    "        return None\n",
    "    mid = len(nums) // 2\n",
    "    root = TreeNode(nums[mid])\n",
    "    root.left = self.sortedArrayToBST(nums[:mid])\n",
    "    root.right = self.sortedArrayToBST(nums[mid+1:])\n",
    "    return root\n",
    "# linked list\n",
    "#简单的思路就是将链表中的数值都保存在一个数组中，然后采用上面的方法来进行BST的构建\n",
    "#或者使用两个指针分别以1和2的跨度往后遍历，一个到达最后，另一个刚好是root节点\n",
    "def sortedListToBST(self, head):\n",
    "        \"\"\"\n",
    "        :type head: ListNode\n",
    "        :rtype: TreeNode\n",
    "            \"\"\"\n",
    "        if not head:\n",
    "            return \n",
    "        if not head.next:\n",
    "            return TreeNode(head.val)\n",
    "        slow, fast = head, head.next.next\n",
    "        while fast and fast.next:\n",
    "            fast = fast.next.next\n",
    "            slow = slow.next\n",
    "        # tmp points to root\n",
    "        tmp = slow.next\n",
    "        # cut down the left child\n",
    "        slow.next = None\n",
    "        root = TreeNode(tmp.val)\n",
    "        root.left = self.sortedListToBST(head)\n",
    "        root.right = self.sortedListToBST(tmp.next)\n",
    "        return root   "
   ]
  },
  {
   "cell_type": "markdown",
   "metadata": {},
   "source": [
    "⑩给定一个二叉树，判断是不是平衡二叉树"
   ]
  },
  {
   "cell_type": "code",
   "execution_count": 17,
   "metadata": {
    "collapsed": true
   },
   "outputs": [],
   "source": [
    "#direct ways\n",
    "def isBalanced(root):\n",
    "    def getHeight(root):\n",
    "        if not root:\n",
    "            return 0\n",
    "        return 1 + max(getHeight(root.left),getHeight(root.right))\n",
    "    if not root:\n",
    "        return True\n",
    "    return abs(getHeight(root.left)-getHeight(root.right)) < 2 and isBalanced(root.left) and isBalanced(root.right)"
   ]
  },
  {
   "cell_type": "code",
   "execution_count": 18,
   "metadata": {},
   "outputs": [
    {
     "data": {
      "text/plain": [
       "True"
      ]
     },
     "execution_count": 18,
     "metadata": {},
     "output_type": "execute_result"
    }
   ],
   "source": [
    "isBalanced(root)"
   ]
  },
  {
   "cell_type": "code",
   "execution_count": 19,
   "metadata": {
    "collapsed": true
   },
   "outputs": [],
   "source": [
    "#只遍历一次树\n",
    "def isBalanced1(root):\n",
    "    def isbalanced(root):\n",
    "        if not root:\n",
    "            return 0\n",
    "        leftheight = isbalanced(root.left)\n",
    "        if (leftheight==-1): return -1\n",
    "        rightheight = isbalanced(root.right)\n",
    "        if (rightheight==-1): return -1\n",
    "        if abs(leftheight-rightheight)>1: return -1\n",
    "        return 1 + max(leftheight,rightheight)\n",
    "    return isbalanced(root)!=-1"
   ]
  },
  {
   "cell_type": "code",
   "execution_count": 20,
   "metadata": {},
   "outputs": [
    {
     "data": {
      "text/plain": [
       "True"
      ]
     },
     "execution_count": 20,
     "metadata": {},
     "output_type": "execute_result"
    }
   ],
   "source": [
    "isBalanced1(root)"
   ]
  },
  {
   "cell_type": "markdown",
   "metadata": {},
   "source": [
    "⑩① 给定二叉树，返回根节点到叶节点的最短路径"
   ]
  },
  {
   "cell_type": "code",
   "execution_count": 34,
   "metadata": {
    "collapsed": true
   },
   "outputs": [],
   "source": [
    "def minDepth(root):\n",
    "        \"\"\"\n",
    "        :type root: TreeNode\n",
    "        :rtype: int\n",
    "        \"\"\"\n",
    "        if not root:\n",
    "            return 0\n",
    "        lefth = minDepth(root.left)\n",
    "        righth = minDepth(root.right)\n",
    "        return 1 + (min(lefth,righth) or max(lefth,righth))\n",
    "        # 0 or 其他 = 其他\n",
    "        # 2 or 其他 = 2"
   ]
  },
  {
   "cell_type": "code",
   "execution_count": 35,
   "metadata": {},
   "outputs": [
    {
     "data": {
      "text/plain": [
       "2"
      ]
     },
     "execution_count": 35,
     "metadata": {},
     "output_type": "execute_result"
    }
   ],
   "source": [
    "minDepth(root)"
   ]
  },
  {
   "cell_type": "markdown",
   "metadata": {},
   "source": [
    "⑩② 给定二叉树，返回根节点到叶子节点的权值和等于给定sum的路径"
   ]
  },
  {
   "cell_type": "code",
   "execution_count": 4,
   "metadata": {
    "collapsed": true
   },
   "outputs": [],
   "source": [
    "#仅仅返回是否存在该路径，使用递归\n",
    "def findsum(root,sum):\n",
    "    if not root:\n",
    "        return False\n",
    "    if not root.left and not root.right and sum - root.val ==0:\n",
    "        return True\n",
    "    return findsum(root.left,sum-root.val) or findsum(root.right,sum-root.val)"
   ]
  },
  {
   "cell_type": "code",
   "execution_count": 6,
   "metadata": {},
   "outputs": [
    {
     "data": {
      "text/plain": [
       "False"
      ]
     },
     "execution_count": 6,
     "metadata": {},
     "output_type": "execute_result"
    }
   ],
   "source": [
    "findsum(root,5)"
   ]
  },
  {
   "cell_type": "code",
   "execution_count": 15,
   "metadata": {
    "collapsed": true
   },
   "outputs": [],
   "source": [
    "#需要返回路径 递归解决\n",
    "def pathSum(root, sum):\n",
    "    def dfs(root, sum, ls, res):\n",
    "        if not root.left and not root.right and sum == root.val:\n",
    "            ls.append(root.val)\n",
    "            res.append(ls)\n",
    "        if root.left:\n",
    "            dfs(root.left, sum-root.val, ls+[root.val], res)\n",
    "        if root.right:\n",
    "            dfs(root.right, sum-root.val, ls+[root.val], res)\n",
    "    if not root:\n",
    "        return []\n",
    "    res = []\n",
    "    dfs(root, sum, [], res)\n",
    "    return res"
   ]
  },
  {
   "cell_type": "code",
   "execution_count": 17,
   "metadata": {},
   "outputs": [
    {
     "data": {
      "text/plain": [
       "[[3, 2, 4], [3, 6]]"
      ]
     },
     "execution_count": 17,
     "metadata": {},
     "output_type": "execute_result"
    }
   ],
   "source": [
    "pathSum(root,9)"
   ]
  },
  {
   "cell_type": "code",
   "execution_count": 4,
   "metadata": {
    "collapsed": true,
    "scrolled": true
   },
   "outputs": [],
   "source": [
    "#另一种递归的方式：\n",
    "class Solution11():\n",
    "    def pathSum(self, root, sum):\n",
    "        if not root:\n",
    "            return []\n",
    "        if not root.left and not root.right and sum == root.val:\n",
    "            return [[root.val]]\n",
    "        tmp = self.pathSum(root.left, sum-root.val) + self.pathSum(root.right, sum-root.val)\n",
    "        return [[root.val]+i for i in tmp]"
   ]
  },
  {
   "cell_type": "code",
   "execution_count": 5,
   "metadata": {
    "collapsed": true
   },
   "outputs": [],
   "source": [
    "a11=Solution11()"
   ]
  },
  {
   "cell_type": "code",
   "execution_count": 18,
   "metadata": {},
   "outputs": [
    {
     "data": {
      "text/plain": [
       "[[3, 2, 4], [3, 6]]"
      ]
     },
     "execution_count": 18,
     "metadata": {},
     "output_type": "execute_result"
    }
   ],
   "source": [
    "a11.pathSum(root,9)"
   ]
  },
  {
   "cell_type": "code",
   "execution_count": 21,
   "metadata": {
    "collapsed": true
   },
   "outputs": [],
   "source": [
    "#用栈或者队列做都行，pop的位置不一样\n",
    "def pathSum4(root, sum): \n",
    "    if not root:\n",
    "        return []\n",
    "    res = []\n",
    "    stack = [(root, sum-root.val, [root.val])]\n",
    "    while stack:\n",
    "        curr, val, ls = stack.pop()\n",
    "        if not curr.left and not curr.right and val == 0:\n",
    "            res.append(ls)\n",
    "        if curr.right:\n",
    "            stack.append((curr.right, val-curr.right.val, ls+[curr.right.val]))\n",
    "        if curr.left:\n",
    "            stack.append((curr.left, val-curr.left.val, ls+[curr.left.val]))\n",
    "    return res "
   ]
  },
  {
   "cell_type": "code",
   "execution_count": 22,
   "metadata": {},
   "outputs": [
    {
     "data": {
      "text/plain": [
       "[[3, 2, 4], [3, 6]]"
      ]
     },
     "execution_count": 22,
     "metadata": {},
     "output_type": "execute_result"
    }
   ],
   "source": [
    "pathSum4(root,9)"
   ]
  },
  {
   "cell_type": "markdown",
   "metadata": {},
   "source": [
    "⑩③将一个二叉树转变成只有做节点或者只有右节点的二叉树（pre-order）"
   ]
  },
  {
   "cell_type": "markdown",
   "metadata": {},
   "source": [
    "直接的思路，先序遍历整个树，然后记录当前结点n，以及前一个节点pre：  \n",
    "![image](https://github.com/caibobit/blog-picture/blob/master/binary%20tree.PNG?raw=true)"
   ]
  },
  {
   "cell_type": "code",
   "execution_count": 31,
   "metadata": {
    "collapsed": true
   },
   "outputs": [],
   "source": [
    "class Solution13:\n",
    "# @param root, a tree node\n",
    "# @return nothing, do it in place\n",
    "    prev = None\n",
    "    def flatten(self, root):\n",
    "        if not root:\n",
    "            return\n",
    "        self.prev = root\n",
    "        self.flatten(root.left)\n",
    "\n",
    "        temp = root.right\n",
    "        root.right, root.left = root.left, None\n",
    "        self.prev.right = temp\n",
    "\n",
    "        self.flatten(temp)"
   ]
  },
  {
   "cell_type": "code",
   "execution_count": 37,
   "metadata": {
    "collapsed": true
   },
   "outputs": [],
   "source": [
    "a13=Solution13()"
   ]
  },
  {
   "cell_type": "code",
   "execution_count": 38,
   "metadata": {
    "collapsed": true
   },
   "outputs": [],
   "source": [
    "a13.flatten(root)"
   ]
  },
  {
   "cell_type": "code",
   "execution_count": 39,
   "metadata": {},
   "outputs": [
    {
     "name": "stdout",
     "output_type": "stream",
     "text": [
      "3\n",
      "2\n",
      "4\n",
      "6\n"
     ]
    }
   ],
   "source": [
    "while root:\n",
    "    print(root.val)\n",
    "    root=root.right"
   ]
  },
  {
   "cell_type": "code",
   "execution_count": 56,
   "metadata": {
    "collapsed": true
   },
   "outputs": [],
   "source": [
    "#recursion solution\n",
    "#先序是中左右，递归就返回来，右左中。\n",
    "class Solution14():\n",
    "    pre = None\n",
    "    def flatten(self,root):\n",
    "        if not root:\n",
    "            return \n",
    "        self.flatten(root.right)\n",
    "        self.flatten(root.left)\n",
    "        root.right = self.pre\n",
    "        root.left = None\n",
    "        self.pre = root"
   ]
  },
  {
   "cell_type": "code",
   "execution_count": 57,
   "metadata": {
    "collapsed": true
   },
   "outputs": [],
   "source": [
    "a14=Solution14()"
   ]
  },
  {
   "cell_type": "code",
   "execution_count": 58,
   "metadata": {
    "collapsed": true
   },
   "outputs": [],
   "source": [
    "a14.flatten(root)"
   ]
  },
  {
   "cell_type": "code",
   "execution_count": 59,
   "metadata": {
    "scrolled": true
   },
   "outputs": [
    {
     "name": "stdout",
     "output_type": "stream",
     "text": [
      "3\n",
      "2\n",
      "4\n",
      "6\n"
     ]
    }
   ],
   "source": [
    "while root:\n",
    "    print(root.val)\n",
    "    root=root.right"
   ]
  },
  {
   "cell_type": "markdown",
   "metadata": {},
   "source": [
    "### Binary Tree Paths\n",
    "Given a binary tree, return all root-to-leaf paths."
   ]
  },
  {
   "cell_type": "code",
   "execution_count": 2,
   "metadata": {
    "collapsed": true
   },
   "outputs": [],
   "source": [
    "def binaryTreePaths(root):\n",
    "    def dfs(root,path,res):\n",
    "        if not root:\n",
    "            return\n",
    "        if not root.left and not root.right:\n",
    "            res.append(path+'root.val')\n",
    "            return \n",
    "        path += 'root.val'+'->'\n",
    "        dfs(root.left,path,res)\n",
    "        dfs(root.right,path,res)\n",
    "    res=[]\n",
    "    if not root:\n",
    "        return \n",
    "    path=''\n",
    "    dfs(root,path,res)\n",
    "    return res"
   ]
  },
  {
   "cell_type": "markdown",
   "metadata": {
    "collapsed": true
   },
   "source": [
    "### invert binary tree"
   ]
  },
  {
   "cell_type": "code",
   "execution_count": 1,
   "metadata": {
    "collapsed": true
   },
   "outputs": [],
   "source": [
    "class Solution111:\n",
    "    def invertTree(self, root):\n",
    "        \"\"\"\n",
    "        :type root: TreeNode\n",
    "        :rtype: TreeNode\n",
    "        \"\"\"\n",
    "        if root:\n",
    "            tmproot = root.left\n",
    "            root.left = self.invertTree(root.right)\n",
    "            root.right = self.invertTree(tmproot)\n",
    "        return root"
   ]
  },
  {
   "cell_type": "code",
   "execution_count": null,
   "metadata": {
    "collapsed": true
   },
   "outputs": [],
   "source": []
  }
 ],
 "metadata": {
  "kernelspec": {
   "display_name": "python3.6",
   "language": "python",
   "name": "python3.6"
  },
  "language_info": {
   "codemirror_mode": {
    "name": "ipython",
    "version": 3
   },
   "file_extension": ".py",
   "mimetype": "text/x-python",
   "name": "python",
   "nbconvert_exporter": "python",
   "pygments_lexer": "ipython3",
   "version": "3.6.2"
  }
 },
 "nbformat": 4,
 "nbformat_minor": 2
}
