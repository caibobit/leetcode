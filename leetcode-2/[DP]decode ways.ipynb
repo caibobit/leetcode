{
 "cells": [
  {
   "cell_type": "markdown",
   "metadata": {},
   "source": [
    "###Question\n",
    "A message containing letters from A-Z is being encoded to numbers using the following mapping:  \n",
    "'A' -> 1  \n",
    "'B' -> 2  \n",
    "...  \n",
    "'Z' -> 26  \n",
    "Given an encoded message containing digits, determine the total number of ways to decode it."
   ]
  },
  {
   "cell_type": "code",
   "execution_count": 47,
   "metadata": {
    "collapsed": true
   },
   "outputs": [],
   "source": [
    "#动态规划 ，设定好初始值即可\n",
    "class Solution:\n",
    "    def numDecodings(self, s):\n",
    "        \"\"\"\n",
    "        :type s: str\n",
    "        :rtype: int\n",
    "        \"\"\"\n",
    "        length = len(s)\n",
    "        if not s or length==0:\n",
    "            return 0\n",
    "        dp = [0 for _ in range(length+1)]\n",
    "        dp[0] = 1\n",
    "        dp[1] = 1 if s[0]!='0' else 0\n",
    "        for i in range(2,length+1):\n",
    "            first = s[i-1:i]\n",
    "            second = s[i-2:i]\n",
    "            if first>='1' and first<='9':\n",
    "                dp[i] += dp[i-1]\n",
    "            if second>='10' and second<='26':\n",
    "                dp[i] += dp[i-2]\n",
    "        return dp[length]"
   ]
  },
  {
   "cell_type": "code",
   "execution_count": 48,
   "metadata": {
    "collapsed": true
   },
   "outputs": [],
   "source": [
    "a=Solution()"
   ]
  },
  {
   "cell_type": "code",
   "execution_count": 49,
   "metadata": {
    "collapsed": true
   },
   "outputs": [],
   "source": [
    "s='0'"
   ]
  },
  {
   "cell_type": "code",
   "execution_count": 50,
   "metadata": {},
   "outputs": [
    {
     "name": "stdout",
     "output_type": "stream",
     "text": [
      "[1, 0]\n"
     ]
    },
    {
     "data": {
      "text/plain": [
       "0"
      ]
     },
     "execution_count": 50,
     "metadata": {},
     "output_type": "execute_result"
    }
   ],
   "source": [
    "a.numDecodings(s)"
   ]
  },
  {
   "cell_type": "code",
   "execution_count": 33,
   "metadata": {
    "collapsed": true
   },
   "outputs": [],
   "source": [
    "#通过设置pre(之前的位置)和cur(当前的位置)来遍历整个字符串\n",
    "'''\n",
    "w tells the number of ways\n",
    "v tells the previous number of ways\n",
    "d is the current digit\n",
    "p is the previous digit\n",
    "'''\n",
    "def numDecodings(s):\n",
    "    v, w, p = 0, int(s>''), ''\n",
    "    for d in s:\n",
    "        v, w, p = w, (d>'0')*w + (9<int(p+d)<27)*v, d\n",
    "    return w"
   ]
  },
  {
   "cell_type": "code",
   "execution_count": 34,
   "metadata": {},
   "outputs": [
    {
     "data": {
      "text/plain": [
       "3"
      ]
     },
     "execution_count": 34,
     "metadata": {},
     "output_type": "execute_result"
    }
   ],
   "source": [
    "numDecodings(s)"
   ]
  },
  {
   "cell_type": "markdown",
   "metadata": {
    "collapsed": true
   },
   "source": [
    "###问题的衍生 给定一个包含数字的字符串，给定所有满足ip地址的划分。  \n",
    "For example:  \n",
    "Given \"25525511135\",  \n",
    "return [\"255.255.11.135\", \"255.255.111.35\"]. (Order does not matter)"
   ]
  },
  {
   "cell_type": "code",
   "execution_count": 45,
   "metadata": {
    "collapsed": true
   },
   "outputs": [],
   "source": [
    "#bruce solution\n",
    "class Solution2(object):\n",
    "    def ipaddress(self,s):\n",
    "        def isvalid(substring):\n",
    "            if len(substring)==0 or len(substring)>3 or (substring[0]=='0' and len(substring)>1) or int(substring)>255:\n",
    "                return False\n",
    "            return True\n",
    "        length = len(s)\n",
    "        res = []\n",
    "        for i in range(1,4):\n",
    "            if i<(length-2):\n",
    "                for j in range(i+1,i+4):\n",
    "                    if j<(length-1):\n",
    "                        for k in range(j+1,j+4):\n",
    "                            if k<length:\n",
    "                                s1,s2,s3,s4=s[:i],s[i:j],s[j:k],s[k:length]\n",
    "                                if isvalid(s1) and isvalid(s2) and isvalid(s3) and isvalid(s4):\n",
    "                                    res.append((s1+\".\"+s2+\".\"+s3+\".\"+s4))\n",
    "        return res"
   ]
  },
  {
   "cell_type": "code",
   "execution_count": 46,
   "metadata": {
    "collapsed": true
   },
   "outputs": [],
   "source": [
    "s=\"25525511135\""
   ]
  },
  {
   "cell_type": "code",
   "execution_count": 47,
   "metadata": {
    "collapsed": true
   },
   "outputs": [],
   "source": [
    "a1=Solution2()"
   ]
  },
  {
   "cell_type": "code",
   "execution_count": 48,
   "metadata": {},
   "outputs": [
    {
     "data": {
      "text/plain": [
       "['255.255.11.135', '255.255.111.35']"
      ]
     },
     "execution_count": 48,
     "metadata": {},
     "output_type": "execute_result"
    }
   ],
   "source": [
    "a1.ipaddress(s)"
   ]
  },
  {
   "cell_type": "code",
   "execution_count": 49,
   "metadata": {
    "collapsed": true
   },
   "outputs": [],
   "source": [
    "#采取DFS方式\n",
    "class Solution2(object):\n",
    "    def restoreIpAddresses(self, s):\n",
    "        \"\"\"\n",
    "        :type s: str\n",
    "        :rtype: List[str]\n",
    "        \"\"\"\n",
    "        ans = []\n",
    "        self.helper(ans, s, 4, [])\n",
    "        return ['.'.join(x) for x in ans]\n",
    "        \n",
    "    def helper(self, ans, s, k, temp):\n",
    "        if len(s) > k*3:\n",
    "            return\n",
    "        if k == 0:\n",
    "            ans.append(temp[:])\n",
    "        else:\n",
    "            for i in range(min(3,len(s)-k+1)):\n",
    "                if i==2 and int(s[:3]) > 255 or i > 0 and s[0] == '0':\n",
    "                    continue\n",
    "                self.helper(ans, s[i+1:], k-1, temp+[s[:i+1]])"
   ]
  },
  {
   "cell_type": "code",
   "execution_count": 55,
   "metadata": {
    "collapsed": true
   },
   "outputs": [],
   "source": [
    "#采取正则表达式的方式\n",
    "from re import match\n",
    "vre = [r'[0-9]', r'[1-9][0-9]', r'1[0-9][0-9]|2[0-4][0-9]|25[0-5]']\n",
    "\n",
    "class Solution3(object):\n",
    "    def restoreIpAddresses(self, s):\n",
    "        possible = lambda s: (match(regx, s).group() for regx in vre if match(regx, s))\n",
    "        def helper(s, depth):\n",
    "            if not depth:\n",
    "                return [] if s else [[]]\n",
    "            return [[p]+r for p in possible(s)\n",
    "                          for r in helper(s[len(p):], depth-1)]\n",
    "        return list(map('.'.join, helper(s, 4)))"
   ]
  },
  {
   "cell_type": "code",
   "execution_count": 56,
   "metadata": {
    "collapsed": true
   },
   "outputs": [],
   "source": [
    "a3=Solution3()"
   ]
  },
  {
   "cell_type": "code",
   "execution_count": 57,
   "metadata": {},
   "outputs": [
    {
     "data": {
      "text/plain": [
       "['255.255.11.135', '255.255.111.35']"
      ]
     },
     "execution_count": 57,
     "metadata": {},
     "output_type": "execute_result"
    }
   ],
   "source": [
    "a3.restoreIpAddresses(s)"
   ]
  }
 ],
 "metadata": {
  "kernelspec": {
   "display_name": "python3.6",
   "language": "python",
   "name": "python3.6"
  },
  "language_info": {
   "codemirror_mode": {
    "name": "ipython",
    "version": 3
   },
   "file_extension": ".py",
   "mimetype": "text/x-python",
   "name": "python",
   "nbconvert_exporter": "python",
   "pygments_lexer": "ipython3",
   "version": "3.6.2"
  }
 },
 "nbformat": 4,
 "nbformat_minor": 2
}
