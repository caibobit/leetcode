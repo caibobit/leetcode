{
 "cells": [
  {
   "cell_type": "markdown",
   "metadata": {},
   "source": [
    "#### 问题1\n",
    "给定数组按螺旋输出结果"
   ]
  },
  {
   "cell_type": "code",
   "execution_count": 16,
   "metadata": {
    "collapsed": true
   },
   "outputs": [],
   "source": [
    "#solution1：\n",
    "def spiralOrder(matrix):\n",
    "        if not matrix: return []\n",
    "        R, C = len(matrix), len(matrix[0])\n",
    "        seen = [[False] * C for _ in matrix]\n",
    "        ans = []\n",
    "        dr = [0, 1, 0, -1]\n",
    "        dc = [1, 0, -1, 0]\n",
    "        r = c = di = 0\n",
    "        for _ in range(R * C):\n",
    "            ans.append(matrix[r][c])\n",
    "            seen[r][c] = True\n",
    "            cr, cc = r + dr[di], c + dc[di]\n",
    "            if 0 <= cr < R and 0 <= cc < C and not seen[cr][cc]:\n",
    "                r, c = cr, cc\n",
    "            else:\n",
    "                di = (di + 1) % 4\n",
    "                r, c = r + dr[di], c + dc[di]\n",
    "        return ans"
   ]
  },
  {
   "cell_type": "code",
   "execution_count": 17,
   "metadata": {
    "collapsed": true
   },
   "outputs": [],
   "source": [
    "a=[\n",
    " [ 1, 2, 3 ],\n",
    " [ 4, 5, 6 ],\n",
    " [ 7, 8, 9 ]\n",
    "]"
   ]
  },
  {
   "cell_type": "code",
   "execution_count": 18,
   "metadata": {},
   "outputs": [
    {
     "data": {
      "text/plain": [
       "[1, 2, 3, 6, 9, 8, 7, 4, 5]"
      ]
     },
     "execution_count": 18,
     "metadata": {},
     "output_type": "execute_result"
    }
   ],
   "source": [
    "spiralOrder(a)"
   ]
  },
  {
   "cell_type": "markdown",
   "metadata": {},
   "source": [
    "具体的思路如下图所示：  \n",
    "![image](https://note.youdao.com/yws/api/personal/file/9AE6F121F7BE45CDAC4C84A5A0BC0597?method=download&shareKey=aeb29e9ace07353a9f78b737d3919d9b)"
   ]
  },
  {
   "cell_type": "code",
   "execution_count": 39,
   "metadata": {
    "collapsed": true
   },
   "outputs": [],
   "source": [
    "#使用yield\n",
    "def spiralOrder1(matrix):\n",
    "        def spiral_coords(r1, c1, r2, c2):\n",
    "            for c in range(c1, c2 + 1):\n",
    "                yield r1, c\n",
    "            for r in range(r1 + 1, r2 + 1):\n",
    "                yield r, c2\n",
    "            if r1 < r2 and c1 < c2:\n",
    "                for c in range(c2 - 1, c1, -1):\n",
    "                    yield r2, c\n",
    "                for r in range(r2, r1, -1):\n",
    "                    yield r, c1\n",
    "\n",
    "        if not matrix: return []\n",
    "        ans = []\n",
    "        r1, r2 = 0, len(matrix) - 1\n",
    "        c1, c2 = 0, len(matrix[0]) - 1\n",
    "        while r1 <= r2 and c1 <= c2:\n",
    "            for r, c in spiral_coords(r1, c1, r2, c2):\n",
    "                ans.append(matrix[r][c])\n",
    "            r1 += 1; r2 -= 1\n",
    "            c1 += 1; c2 -= 1\n",
    "        return ans"
   ]
  },
  {
   "cell_type": "code",
   "execution_count": 40,
   "metadata": {},
   "outputs": [
    {
     "data": {
      "text/plain": [
       "[1, 2, 3, 6, 9, 8, 7, 4, 5]"
      ]
     },
     "execution_count": 40,
     "metadata": {},
     "output_type": "execute_result"
    }
   ],
   "source": [
    "spiralOrder1(a)"
   ]
  },
  {
   "cell_type": "markdown",
   "metadata": {},
   "source": [
    "#### 问题2\n",
    "给定一组数，返回螺旋数组"
   ]
  },
  {
   "cell_type": "code",
   "execution_count": 22,
   "metadata": {},
   "outputs": [],
   "source": [
    "def generateMatrix(n):\n",
    "    if n == 0: return []\n",
    "    R, C = n,n\n",
    "    ans = [[0 for i in range(n)] for j in range(n)]\n",
    "    seen = [[False] * n for _ in range(n)]\n",
    "    dr = [0, 1, 0, -1]\n",
    "    dc = [1, 0, -1, 0]\n",
    "    r = c = di = 0\n",
    "    count = 1\n",
    "    for _ in range(R * C):\n",
    "        ans[r][c] = count\n",
    "        count += 1\n",
    "        seen[r][c] = True\n",
    "        cr, cc = r + dr[di], c + dc[di]\n",
    "        if 0 <= cr < R and 0 <= cc < C and not seen[cr][cc]:\n",
    "            r, c = cr, cc\n",
    "        else:\n",
    "            di = (di + 1) % 4\n",
    "            r, c = r + dr[di], c + dc[di]\n",
    "    return ans"
   ]
  },
  {
   "cell_type": "code",
   "execution_count": 26,
   "metadata": {},
   "outputs": [
    {
     "data": {
      "text/plain": [
       "[[1, 2, 3, 4], [12, 13, 14, 5], [11, 16, 15, 6], [10, 9, 8, 7]]"
      ]
     },
     "execution_count": 26,
     "metadata": {},
     "output_type": "execute_result"
    }
   ],
   "source": [
    "generateMatrix(4)"
   ]
  },
  {
   "cell_type": "code",
   "execution_count": null,
   "metadata": {
    "collapsed": true
   },
   "outputs": [],
   "source": []
  }
 ],
 "metadata": {
  "kernelspec": {
   "display_name": "python3",
   "language": "python",
   "name": "default"
  },
  "language_info": {
   "codemirror_mode": {
    "name": "ipython",
    "version": 3
   },
   "file_extension": ".py",
   "mimetype": "text/x-python",
   "name": "python",
   "nbconvert_exporter": "python",
   "pygments_lexer": "ipython3",
   "version": "3.6.1"
  }
 },
 "nbformat": 4,
 "nbformat_minor": 2
}
