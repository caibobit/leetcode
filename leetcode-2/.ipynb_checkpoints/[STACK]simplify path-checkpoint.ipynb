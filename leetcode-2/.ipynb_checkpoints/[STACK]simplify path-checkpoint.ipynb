{
 "cells": [
  {
   "cell_type": "markdown",
   "metadata": {},
   "source": [
    "#### question:\n",
    "Given an absolute path for a file (Unix-style), simplify it.  \n",
    "\n",
    "For example,  \n",
    "path = \"/home/\", => \"/home\"  \n",
    "path = \"/a/./b/../../c/\", => \"/c\"  \n",
    "Did you consider the case where path = \"/../\"?  \n",
    "In this case, you should return \"/\".  \n",
    "Another corner case is the path might contain multiple slashes '/' together, such as \"/home//foo/\".  \n",
    "In this case, you should ignore redundant slashes and return \"/home/foo\"."
   ]
  },
  {
   "cell_type": "code",
   "execution_count": 5,
   "metadata": {
    "collapsed": true
   },
   "outputs": [],
   "source": [
    "import re"
   ]
  },
  {
   "cell_type": "code",
   "execution_count": 2,
   "metadata": {
    "collapsed": true
   },
   "outputs": [],
   "source": [
    "class Solution(object):\n",
    "    def simplifyPath(self, path):\n",
    "        places = [p for p in path.split(\"/\") if p!=\".\" and p!=\"\"]\n",
    "        stack = []\n",
    "        for p in places:\n",
    "            if p == \"..\":\n",
    "                if len(stack) > 0:\n",
    "                    stack.pop()\n",
    "            else:\n",
    "                stack.append(p)\n",
    "        return \"/\" + \"/\".join(stack)"
   ]
  },
  {
   "cell_type": "code",
   "execution_count": 3,
   "metadata": {
    "collapsed": true
   },
   "outputs": [],
   "source": [
    "a=Solution()"
   ]
  },
  {
   "cell_type": "code",
   "execution_count": 4,
   "metadata": {
    "collapsed": true
   },
   "outputs": [],
   "source": [
    "path = 'caibo//caitao//test/.././../'"
   ]
  },
  {
   "cell_type": "code",
   "execution_count": 8,
   "metadata": {},
   "outputs": [
    {
     "data": {
      "text/plain": [
       "'/caibo'"
      ]
     },
     "execution_count": 8,
     "metadata": {},
     "output_type": "execute_result"
    }
   ],
   "source": [
    "a.simplifyPath(path)"
   ]
  },
  {
   "cell_type": "code",
   "execution_count": null,
   "metadata": {
    "collapsed": true
   },
   "outputs": [],
   "source": []
  }
 ],
 "metadata": {
  "kernelspec": {
   "display_name": "python3.6",
   "language": "python",
   "name": "python3.6"
  },
  "language_info": {
   "codemirror_mode": {
    "name": "ipython",
    "version": 3
   },
   "file_extension": ".py",
   "mimetype": "text/x-python",
   "name": "python",
   "nbconvert_exporter": "python",
   "pygments_lexer": "ipython3",
   "version": "3.6.2"
  }
 },
 "nbformat": 4,
 "nbformat_minor": 2
}
