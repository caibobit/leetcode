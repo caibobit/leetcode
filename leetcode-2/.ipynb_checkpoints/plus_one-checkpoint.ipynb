{
 "cells": [
  {
   "cell_type": "code",
   "execution_count": null,
   "metadata": {
    "collapsed": true
   },
   "outputs": [],
   "source": [
    "#简单的单精度加法问题\n",
    "class Solution:\n",
    "    def plusOne(self, digits):\n",
    "        \"\"\"\n",
    "        :type digits: List[int]\n",
    "        :rtype: List[int]\n",
    "        \"\"\"\n",
    "        lendigit = len(digits)\n",
    "        count = 0\n",
    "        digits[lendigit-1] += 1\n",
    "        for i in range(lendigit-1,-1,-1):\n",
    "            if digits[i]+count >= 10:\n",
    "                digits[i] = 0\n",
    "                count = 1\n",
    "            else:\n",
    "                digits[i] += count\n",
    "                count = 0\n",
    "        return ([1]+digits) if digits[0]==0  else digits"
   ]
  },
  {
   "cell_type": "code",
   "execution_count": null,
   "metadata": {
    "collapsed": true
   },
   "outputs": [],
   "source": [
    "digits=[9,9,9,9,9,9,9]"
   ]
  },
  {
   "cell_type": "code",
   "execution_count": null,
   "metadata": {
    "collapsed": true
   },
   "outputs": [],
   "source": [
    "a= Solution()"
   ]
  },
  {
   "cell_type": "code",
   "execution_count": null,
   "metadata": {},
   "outputs": [],
   "source": [
    "a.plusOne(digits)"
   ]
  },
  {
   "cell_type": "code",
   "execution_count": null,
   "metadata": {
    "collapsed": true
   },
   "outputs": [],
   "source": [
    "#二进制相加\n",
    "class Solution1:\n",
    "    def addBinary(self, a, b):\n",
    "        \"\"\"\n",
    "        :type a: str\n",
    "        :type b: str\n",
    "        :rtype: str\n",
    "        \"\"\"\n",
    "        lena = len(a)\n",
    "        lenb = len(b)\n",
    "        if lena >= lenb:\n",
    "            b = '0'*(lena-lenb)+b\n",
    "        else:\n",
    "            a = '0'*(lenb-lena)+a\n",
    "        b=list(map(int,b))\n",
    "        a=list(map(int,a))\n",
    "        count = 0\n",
    "        for i in range(len(a)-1,-1,-1):\n",
    "            if (a[i]+b[i]+count) == 2:\n",
    "                count = 1\n",
    "                a[i] = 0\n",
    "            elif (a[i]+b[i]+count) ==3:\n",
    "                count =1\n",
    "                a[i] = 1\n",
    "            else:\n",
    "                a[i] = a[i]+b[i]+count\n",
    "                count = 0\n",
    "        if  count ==1:\n",
    "            a = [1]+a\n",
    "        (map(str,a))\n",
    "        result = list((map(str,a)))\n",
    "        final = ''.join(result)\n",
    "        return final"
   ]
  },
  {
   "cell_type": "code",
   "execution_count": 15,
   "metadata": {
    "collapsed": true
   },
   "outputs": [],
   "source": [
    "a,b='111','10'"
   ]
  },
  {
   "cell_type": "code",
   "execution_count": null,
   "metadata": {
    "collapsed": true
   },
   "outputs": [],
   "source": [
    "s1=Solution1()"
   ]
  },
  {
   "cell_type": "code",
   "execution_count": null,
   "metadata": {},
   "outputs": [],
   "source": [
    "s1.addBinary(a,b)"
   ]
  },
  {
   "cell_type": "code",
   "execution_count": 7,
   "metadata": {
    "collapsed": true
   },
   "outputs": [],
   "source": [
    "#another solution\n",
    "#①使用字符的相减就可以得到数字‘1’-‘0’=1\n",
    "#②使用while从两个字符串的最后开始遍历（两者都到0）\n",
    "class Solution12:\n",
    "    def addBinary(self, a, b):\n",
    "        \"\"\"\n",
    "        :type a: str\n",
    "        :type b: str\n",
    "        :rtype: str\n",
    "        \"\"\"\n",
    "        lena = len(a)-1\n",
    "        lenb = len(b)-1\n",
    "        carry = 0\n",
    "        result = []\n",
    "        while(lena>=0 or lenb>=0):\n",
    "            sum = carry\n",
    "            if (lena>=0):\n",
    "                sum += int(a[lena])-0\n",
    "                lena -= 1\n",
    "            if (lenb>=0):\n",
    "                sum += int(b[lenb])-0\n",
    "                lenb -= 1\n",
    "            result.insert(0,sum%2)\n",
    "            carry = sum // 2\n",
    "        if carry:\n",
    "            result.insert(0,carry)\n",
    "        result1 = list((map(str,result)))\n",
    "        final = ''.join(result1)\n",
    "        return final"
   ]
  },
  {
   "cell_type": "code",
   "execution_count": 8,
   "metadata": {
    "collapsed": true
   },
   "outputs": [],
   "source": [
    "a2=Solution12()"
   ]
  },
  {
   "cell_type": "code",
   "execution_count": 11,
   "metadata": {},
   "outputs": [
    {
     "data": {
      "text/plain": [
       "'10'"
      ]
     },
     "execution_count": 11,
     "metadata": {},
     "output_type": "execute_result"
    }
   ],
   "source": [
    "a2.addBinary(a,b)"
   ]
  },
  {
   "cell_type": "code",
   "execution_count": 17,
   "metadata": {
    "collapsed": true
   },
   "outputs": [],
   "source": [
    "#直接二进制相加\n",
    "class Solution0:\n",
    "    def addBinary(self, a, b):\n",
    "        #return bin(eval('0b' + a) + eval('0b' + b))[2:]\n",
    "        return '{:b}'.format(int(a, 2) + int(b, 2))\n",
    "        #int(a,2)将二进制的a转换成整数"
   ]
  },
  {
   "cell_type": "code",
   "execution_count": 18,
   "metadata": {
    "collapsed": true
   },
   "outputs": [],
   "source": [
    "a0=Solution0()"
   ]
  },
  {
   "cell_type": "code",
   "execution_count": 19,
   "metadata": {},
   "outputs": [
    {
     "data": {
      "text/plain": [
       "'1001'"
      ]
     },
     "execution_count": 19,
     "metadata": {},
     "output_type": "execute_result"
    }
   ],
   "source": [
    "a0.addBinary(a,b)"
   ]
  },
  {
   "cell_type": "code",
   "execution_count": null,
   "metadata": {
    "collapsed": true
   },
   "outputs": [],
   "source": []
  }
 ],
 "metadata": {
  "kernelspec": {
   "display_name": "python3.6",
   "language": "python",
   "name": "python3.6"
  },
  "language_info": {
   "codemirror_mode": {
    "name": "ipython",
    "version": 3
   },
   "file_extension": ".py",
   "mimetype": "text/x-python",
   "name": "python",
   "nbconvert_exporter": "python",
   "pygments_lexer": "ipython3",
   "version": "3.6.2"
  }
 },
 "nbformat": 4,
 "nbformat_minor": 2
}
