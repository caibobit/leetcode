{
 "cells": [
  {
   "cell_type": "code",
   "execution_count": 6,
   "metadata": {},
   "outputs": [],
   "source": [
    "def minarray(nums1,nums2):\n",
    "    l =len(nusm1)\n",
    "    minv = 'inf'\n",
    "    res = []\n",
    "    for i in range(l):\n",
    "        res.append(num1[i])\n",
    "        for j in range(l):\n",
    "            res.append(nums2[j])\n",
    "            minv=min(com(res),minv)\n",
    "    def com(res):\n",
    "        sumres= 0\n",
    "        for i in range(1,2*l-1,2):\n",
    "            sumres+= (res[i]*res[i-1])\n",
    "        return sumres\n",
    "    return minv"
   ]
  },
  {
   "cell_type": "code",
   "execution_count": 4,
   "metadata": {},
   "outputs": [
    {
     "name": "stdout",
     "output_type": "stream",
     "text": [
      "1\n",
      "3\n",
      "5\n",
      "7\n"
     ]
    }
   ],
   "source": [
    "for i in range(1,9,2):\n",
    "    print(i)"
   ]
  },
  {
   "cell_type": "code",
   "execution_count": null,
   "metadata": {
    "collapsed": true
   },
   "outputs": [],
   "source": []
  }
 ],
 "metadata": {
  "kernelspec": {
   "display_name": "python3.6",
   "language": "python",
   "name": "python3.6"
  },
  "language_info": {
   "codemirror_mode": {
    "name": "ipython",
    "version": 3
   },
   "file_extension": ".py",
   "mimetype": "text/x-python",
   "name": "python",
   "nbconvert_exporter": "python",
   "pygments_lexer": "ipython3",
   "version": "3.6.2"
  }
 },
 "nbformat": 4,
 "nbformat_minor": 2
}
