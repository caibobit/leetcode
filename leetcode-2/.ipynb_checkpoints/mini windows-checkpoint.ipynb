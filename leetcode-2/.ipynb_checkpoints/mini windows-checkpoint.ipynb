{
 "cells": [
  {
   "cell_type": "code",
   "execution_count": 3,
   "metadata": {
    "collapsed": true
   },
   "outputs": [],
   "source": [
    "import collections\n",
    "import time"
   ]
  },
  {
   "cell_type": "code",
   "execution_count": 1,
   "metadata": {
    "collapsed": true
   },
   "outputs": [],
   "source": [
    "class Solution:\n",
    "    def minWindow(self, s, t):\n",
    "        need, missing = collections.Counter(t), len(t)\n",
    "        i = I = J = 0\n",
    "        for j, c in enumerate(s, 1):\n",
    "            missing -= need[c] > 0\n",
    "            need[c] -= 1\n",
    "            if not missing:\n",
    "                while i < j and need[s[i]] < 0:\n",
    "                    need[s[i]] += 1\n",
    "                    i += 1\n",
    "                if not J or j - i <= J - I:\n",
    "                    I, J = i, j\n",
    "        return s[I:J]\n",
    "        "
   ]
  },
  {
   "cell_type": "code",
   "execution_count": null,
   "metadata": {
    "collapsed": true
   },
   "outputs": [],
   "source": []
  }
 ],
 "metadata": {
  "kernelspec": {
   "display_name": "python3.6",
   "language": "python",
   "name": "python3.6"
  },
  "language_info": {
   "codemirror_mode": {
    "name": "ipython",
    "version": 3
   },
   "file_extension": ".py",
   "mimetype": "text/x-python",
   "name": "python",
   "nbconvert_exporter": "python",
   "pygments_lexer": "ipython3",
   "version": "3.6.2"
  }
 },
 "nbformat": 4,
 "nbformat_minor": 2
}
