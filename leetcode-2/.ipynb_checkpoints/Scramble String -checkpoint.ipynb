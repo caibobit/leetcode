{
 "cells": [
  {
   "cell_type": "code",
   "execution_count": 1,
   "metadata": {
    "collapsed": true
   },
   "outputs": [],
   "source": [
    "import time"
   ]
  },
  {
   "cell_type": "markdown",
   "metadata": {},
   "source": [
    "#### question\n",
    "这道题到底是什么意思呢？最终的结果是把一个字符串中字母的顺序打乱了，让你判断一个字符串能不能由另一个字符串打乱得到。那打乱这个过程是怎么做的呢，很简单，给你一个字符串，你必须先找一个点把它砍成两半，你可以通过交换这两半的顺序来打乱源字符串的顺序，也就是在两半中的字符与另一半中所有字符的相对顺序是统一的。对于每一半，都可以重复上面的过程。"
   ]
  },
  {
   "cell_type": "code",
   "execution_count": 10,
   "metadata": {
    "collapsed": true
   },
   "outputs": [],
   "source": [
    "s1,s2='caibonashcaibocaitaocaibo','nashbocaicaitaocaiboaot'"
   ]
  },
  {
   "cell_type": "code",
   "execution_count": 2,
   "metadata": {
    "collapsed": true
   },
   "outputs": [],
   "source": [
    "class Solution:\n",
    "    # @return a boolean\n",
    "    def isScramble(self, s1, s2):\n",
    "        if s1==s2: return True\n",
    "        if sorted(s1) != sorted(s2): return False  # \"abcd\", \"bdac\" are not scramble string\n",
    "        length=len(s1)\n",
    "        for i in range(1,length):\n",
    "            if self.isScramble(s1[:i],s2[:i])        and self.isScramble(s1[i:],s2[i:]):        return True\n",
    "            if self.isScramble(s1[:i],s2[length-i:]) and self.isScramble(s1[i:],s2[:length-i]): return True\n",
    "        return False"
   ]
  },
  {
   "cell_type": "code",
   "execution_count": 4,
   "metadata": {
    "collapsed": true
   },
   "outputs": [],
   "source": [
    "a=Solution()"
   ]
  },
  {
   "cell_type": "code",
   "execution_count": 11,
   "metadata": {},
   "outputs": [
    {
     "name": "stdout",
     "output_type": "stream",
     "text": [
      "False\n",
      "Running time: 0.0001967408962002537 Seconds\n"
     ]
    }
   ],
   "source": [
    "start = time.clock()\n",
    "print (a.isScramble(s1,s2))\n",
    "end = time.clock()\n",
    "print ('Running time: %s Seconds'%(end-start))"
   ]
  },
  {
   "cell_type": "code",
   "execution_count": 7,
   "metadata": {},
   "outputs": [],
   "source": [
    "class Solution1:\n",
    "# @return a boolean\n",
    "    def isScramble(self, s1, s2):\n",
    "        n, m = len(s1), len(s2)\n",
    "        if n != m or sorted(s1) != sorted(s2):\n",
    "            return False\n",
    "        if n < 4 or s1 == s2:\n",
    "            return True\n",
    "        f = self.isScramble\n",
    "        for i in range(1, n):\n",
    "            if f(s1[:i], s2[:i]) and f(s1[i:], s2[i:]) or f(s1[:i], s2[-i:]) and f(s1[i:], s2[:-i]):\n",
    "                return True\n",
    "        return False"
   ]
  },
  {
   "cell_type": "code",
   "execution_count": 8,
   "metadata": {
    "collapsed": true
   },
   "outputs": [],
   "source": [
    "a1=Solution1()"
   ]
  },
  {
   "cell_type": "code",
   "execution_count": 12,
   "metadata": {},
   "outputs": [
    {
     "name": "stdout",
     "output_type": "stream",
     "text": [
      "False\n",
      "Running time: 0.0001809384145730064 Seconds\n"
     ]
    }
   ],
   "source": [
    "start = time.clock()\n",
    "print (a1.isScramble(s1,s2))\n",
    "end = time.clock()\n",
    "print ('Running time: %s Seconds'%(end-start))"
   ]
  }
 ],
 "metadata": {
  "kernelspec": {
   "display_name": "python3.6",
   "language": "python",
   "name": "python3.6"
  },
  "language_info": {
   "codemirror_mode": {
    "name": "ipython",
    "version": 3
   },
   "file_extension": ".py",
   "mimetype": "text/x-python",
   "name": "python",
   "nbconvert_exporter": "python",
   "pygments_lexer": "ipython3",
   "version": "3.6.2"
  }
 },
 "nbformat": 4,
 "nbformat_minor": 2
}
