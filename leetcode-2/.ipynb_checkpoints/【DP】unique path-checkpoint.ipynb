{
 "cells": [
  {
   "cell_type": "code",
   "execution_count": 5,
   "metadata": {
    "collapsed": true
   },
   "outputs": [],
   "source": [
    "#使用DP搜索\n",
    "def uniquepath(m,n):\n",
    "    nums = [ [1]*n for i in range(m)]\n",
    "    for i in range(1,m):\n",
    "        for j in range(1,n):\n",
    "            nums[i][j] = nums[i-1][j]+nums[i][j-1]\n",
    "    return nums[m-1][n-1]"
   ]
  },
  {
   "cell_type": "code",
   "execution_count": 6,
   "metadata": {},
   "outputs": [
    {
     "data": {
      "text/plain": [
       "10"
      ]
     },
     "execution_count": 6,
     "metadata": {},
     "output_type": "execute_result"
    }
   ],
   "source": [
    "uniquepath(3,4)"
   ]
  },
  {
   "cell_type": "markdown",
   "metadata": {
    "collapsed": true
   },
   "source": [
    "#### 如果设置障碍"
   ]
  },
  {
   "cell_type": "markdown",
   "metadata": {},
   "source": [
    "错误的算法"
   ]
  },
  {
   "cell_type": "code",
   "execution_count": 9,
   "metadata": {
    "collapsed": true
   },
   "outputs": [],
   "source": [
    "def uniquepath1(obstacle):\n",
    "    m = len(obstacle)\n",
    "    n = len(obstacle[0])\n",
    "    nums = [ [1]*n for i in range(m) ]\n",
    "    for i in range(1,m):\n",
    "        for j in range(1,n):\n",
    "            if obstacle[i-1][j] and obstacle[i][j-1]:\n",
    "                nums[i][j] = 0\n",
    "            elif (obstacle[i-1][j] or obstacle[i][j-1]):\n",
    "                nums[i][j] = nums[i-1][j] if nums[i][j-1] > nums[i-1][j] else nums[i][j-1]\n",
    "            else:\n",
    "                nums[i][j] = nums[i-1][j]+nums[i][j-1]\n",
    "    return nums[m-1][n-1]"
   ]
  },
  {
   "cell_type": "code",
   "execution_count": 3,
   "metadata": {
    "collapsed": true
   },
   "outputs": [],
   "source": [
    "obstacle = [[0,0,0,0],[0,0,1,0],[0,0,1,0],[0,0,0,0]]"
   ]
  },
  {
   "cell_type": "code",
   "execution_count": 15,
   "metadata": {},
   "outputs": [
    {
     "data": {
      "text/plain": [
       "4"
      ]
     },
     "execution_count": 15,
     "metadata": {},
     "output_type": "execute_result"
    }
   ],
   "source": [
    "uniquepath1(obstacle)"
   ]
  },
  {
   "cell_type": "markdown",
   "metadata": {},
   "source": [
    "### 正确解法\n",
    "通过初始化参数以及起始位置的变换直接在原数组中进行操作"
   ]
  },
  {
   "cell_type": "code",
   "execution_count": 1,
   "metadata": {
    "collapsed": true
   },
   "outputs": [],
   "source": [
    "#采取in-place方式\n",
    "class Solution:\n",
    "    # @param obstacleGrid, a list of lists of integers\n",
    "    # @return an integer\n",
    "    def uniquePathsWithObstacles(self, obstacleGrid):\n",
    "        m = len(obstacleGrid)\n",
    "        n = len(obstacleGrid[0])\n",
    "        obstacleGrid[0][0] = 1 - obstacleGrid[0][0]\n",
    "        \n",
    "        for i in range(1, n):\n",
    "            if not obstacleGrid[0][i]:\n",
    "                obstacleGrid[0][i] = obstacleGrid[0][i-1]\n",
    "            else:\n",
    "                obstacleGrid[0][i] = 0\n",
    "                \n",
    "        for i in range(1, m):\n",
    "            if not obstacleGrid[i][0]:\n",
    "                obstacleGrid[i][0] = obstacleGrid[i-1][0]\n",
    "            else:\n",
    "                obstacleGrid[i][0] = 0\n",
    "                \n",
    "        for i in range(1, m):\n",
    "            for j in range(1, n):\n",
    "                if not obstacleGrid[i][j]:\n",
    "                    obstacleGrid[i][j] = obstacleGrid[i][j-1]+obstacleGrid[i-1][j]\n",
    "                else:\n",
    "                    obstacleGrid[i][j] = 0\n",
    "                    \n",
    "        return obstacleGrid[-1][-1]"
   ]
  },
  {
   "cell_type": "code",
   "execution_count": 2,
   "metadata": {
    "collapsed": true
   },
   "outputs": [],
   "source": [
    "a1=Solution()"
   ]
  },
  {
   "cell_type": "code",
   "execution_count": 4,
   "metadata": {},
   "outputs": [
    {
     "data": {
      "text/plain": [
       "5"
      ]
     },
     "execution_count": 4,
     "metadata": {},
     "output_type": "execute_result"
    }
   ],
   "source": [
    "a1.uniquePathsWithObstacles(obstacleGrid=obstacle)"
   ]
  },
  {
   "cell_type": "code",
   "execution_count": null,
   "metadata": {
    "collapsed": true
   },
   "outputs": [],
   "source": []
  }
 ],
 "metadata": {
  "kernelspec": {
   "display_name": "Python 3",
   "language": "python",
   "name": "python3"
  },
  "language_info": {
   "codemirror_mode": {
    "name": "ipython",
    "version": 3
   },
   "file_extension": ".py",
   "mimetype": "text/x-python",
   "name": "python",
   "nbconvert_exporter": "python",
   "pygments_lexer": "ipython3",
   "version": "3.6.1"
  }
 },
 "nbformat": 4,
 "nbformat_minor": 2
}
