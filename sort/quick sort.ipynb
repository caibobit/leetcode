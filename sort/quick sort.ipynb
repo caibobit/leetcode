{
 "cells": [
  {
   "cell_type": "markdown",
   "metadata": {},
   "source": [
    "### ①quick sort"
   ]
  },
  {
   "cell_type": "code",
   "execution_count": 1,
   "metadata": {},
   "outputs": [
    {
     "name": "stdout",
     "output_type": "stream",
     "text": [
      "[5, 3, 2, 1, 4, 6, 7, 5, 5]\n",
      "[1, 2, 3, 4, 5, 5, 5, 6, 7]\n"
     ]
    }
   ],
   "source": [
    "#最为标准的算法\n",
    "def quick_sort_standord(array,low,high):\n",
    "    ''' realize from book \"data struct\" of author 严蔚敏\n",
    "    '''\n",
    "    if low < high:\n",
    "        key_index = partion(array,low,high)\n",
    "        quick_sort_standord(array,low,key_index)\n",
    "        quick_sort_standord(array,key_index+1,high)\n",
    "\n",
    "def partion(array,low,high):\n",
    "    key = array[low]\n",
    "    while low < high:\n",
    "        while low < high and array[high] >= key:\n",
    "            high -= 1\n",
    "        if low < high:\n",
    "            array[low] = array[high]\n",
    "\n",
    "        while low < high and array[low] < key:\n",
    "            low += 1\n",
    "        if low < high:\n",
    "            array[high] = array[low]\n",
    "\n",
    "    array[low] = key\n",
    "    return low\n",
    "\n",
    "if __name__ == '__main__':\n",
    "    array2 = [5,3,2,1,4,6,7,5,5]\n",
    "\n",
    "    print (array2)\n",
    "    quick_sort_standord(array2,0,len(array2)-1)\n",
    "    print (array2)"
   ]
  },
  {
   "cell_type": "code",
   "execution_count": 4,
   "metadata": {},
   "outputs": [
    {
     "name": "stdout",
     "output_type": "stream",
     "text": [
      "[9, 3, 2, 1, 4, 6, 7, 0, 5]\n",
      "[0, 1, 2, 3, 4, 5, 6, 7, 9]\n"
     ]
    }
   ],
   "source": [
    "#思路同标准算法，partition使用单指针\n",
    "def quick_sort_standord1(array,low,high):\n",
    "    ''' realize from book \"data struct\" of author 严蔚敏\n",
    "    '''\n",
    "    if low < high:\n",
    "        key_index = partion(array,low,high)\n",
    "        quick_sort_standord(array,low,key_index)\n",
    "        quick_sort_standord(array,key_index+1,high)\n",
    "\n",
    "def partition(array, l, r):\n",
    "    low = l\n",
    "    while l < r:\n",
    "        if array[l] < array[r]:\n",
    "            array[l], array[low] = array[low], array[l]\n",
    "            low += 1\n",
    "        l += 1\n",
    "    array[low], array[r] = array[r], array[low]\n",
    "    return low\n",
    "\n",
    "if __name__ == '__main__':\n",
    "    array2 = [9,3,2,1,4,6,7,0,5]\n",
    "\n",
    "    print (array2)\n",
    "    quick_sort_standord1(array2,0,len(array2)-1)\n",
    "    print (array2)"
   ]
  },
  {
   "cell_type": "code",
   "execution_count": 2,
   "metadata": {},
   "outputs": [
    {
     "name": "stdout",
     "output_type": "stream",
     "text": [
      "[6, 1, 2, 7, 9, 3, 4, 5, 10, 8]\n",
      "[1, 2, 3, 4, 5, 6, 7, 8, 9, 10]\n"
     ]
    }
   ],
   "source": [
    "#另一种方式，思路一样\n",
    "# 实现快排\n",
    "def quicksort(nums):\n",
    "    if len(nums) <= 1:\n",
    "        return nums\n",
    "    # 左子数组\n",
    "    less = []\n",
    "    # 右子数组\n",
    "    greater = []\n",
    "    # 基准数\n",
    "    base = nums.pop()\n",
    "    # 对原数组进行划分\n",
    "    for x in nums:\n",
    "        if x < base:\n",
    "            less.append(x)\n",
    "        else:\n",
    "            greater.append(x)\n",
    "    # 递归调用\n",
    "    return quicksort(less) + [base] + quicksort(greater)\n",
    "\n",
    "def main():\n",
    "    nums = [6,1,2,7,9,3,4,5,10,8]\n",
    "    print(nums)\n",
    "    print (quicksort(nums))\n",
    "main()"
   ]
  },
  {
   "cell_type": "code",
   "execution_count": 3,
   "metadata": {},
   "outputs": [
    {
     "name": "stdout",
     "output_type": "stream",
     "text": [
      "[3, 14, 2, 12, 9, 33, 99, 35]\n",
      "[2, 3, 9, 12, 14, 33, 35, 99]\n"
     ]
    }
   ],
   "source": [
    "#用pythonlist的特点\n",
    "def qsort(L):\n",
    "    if len(L) <= 1: return L\n",
    "    return qsort([lt for lt in L[1:] if lt < L[0]])+ \\\n",
    "    L[0:1]+ \\\n",
    "    qsort([ge for ge in L[1:] if ge >= L[0]])\n",
    "\n",
    "iList = [3,14,2,12,9,33,99,35]\n",
    "print(iList)\n",
    "print (qsort(iList))"
   ]
  },
  {
   "cell_type": "code",
   "execution_count": null,
   "metadata": {
    "collapsed": true
   },
   "outputs": [],
   "source": []
  }
 ],
 "metadata": {
  "kernelspec": {
   "display_name": "python3.6",
   "language": "python",
   "name": "python3.6"
  },
  "language_info": {
   "codemirror_mode": {
    "name": "ipython",
    "version": 3
   },
   "file_extension": ".py",
   "mimetype": "text/x-python",
   "name": "python",
   "nbconvert_exporter": "python",
   "pygments_lexer": "ipython3",
   "version": "3.6.2"
  }
 },
 "nbformat": 4,
 "nbformat_minor": 2
}
