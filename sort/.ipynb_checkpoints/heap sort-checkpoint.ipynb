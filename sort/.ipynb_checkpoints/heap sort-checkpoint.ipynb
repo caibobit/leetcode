{
 "cells": [
  {
   "cell_type": "markdown",
   "metadata": {},
   "source": [
    "#### ②堆排序"
   ]
  },
  {
   "cell_type": "code",
   "execution_count": 7,
   "metadata": {},
   "outputs": [
    {
     "name": "stdout",
     "output_type": "stream",
     "text": [
      "[3, 4, 5, 6, 7, 8, 9, 0, 2, 1]\n",
      "[0, 1, 2, 3, 4, 5, 6, 7, 8, 9]\n"
     ]
    }
   ],
   "source": [
    "heap_size = 0\n",
    "LEFT = lambda i: 2*i+1\n",
    "RIGHT = lambda i: 2*i+2 \n",
    "# 维护最大堆\n",
    "#递归实现，效率比较低\n",
    "def HEAPIFY1(A, i):\n",
    "    l, r = LEFT(i), RIGHT(i)\n",
    "    largest = l if l < heap_size and A[l] > A[i] else i # 最小堆则改为 A[l] < A[i]\n",
    "    largest = r if r < heap_size and A[r] > A[largest] else largest # 最小堆则改为A[r] < A[largest]\n",
    "    if i != largest:\n",
    "        A[i], A[largest] = A[largest], A[i]\n",
    "        HEAPIFY(A,largest)\n",
    "#循环实现\n",
    "def HEAPIFY(A, i):\n",
    "    while True:\n",
    "        l, r = LEFT(i), RIGHT(i)\n",
    "        largest = l if l < heap_size and A[l] > A[i] else i\n",
    "        largest = r if r < heap_size and A[r] > A[largest] else largest\n",
    "        if i == largest: break\n",
    "        A[i], A[largest] = A[largest], A[i]\n",
    "        i = largest\n",
    "# 构建最大堆\n",
    "def BUILD_MAX_HEAP(A):\n",
    "    global heap_size\n",
    "    heap_size = len(A)\n",
    "    for i in range(len(A)//2-1,-1,-1):\n",
    "        HEAPIFY(A,i)\n",
    "# 堆排序\n",
    "def HEAPSORT(A):\n",
    "    global heap_size\n",
    "    BUILD_MAX_HEAP(A)\n",
    "    for i in range(len(A)-1,-1,-1):\n",
    "        A[i], A[0] = A[0], A[i]\n",
    "        heap_size -= 1\n",
    "        HEAPIFY(A,0)\n",
    "    return A\n",
    "A=[3,4,5,6,7,8,9,0,2,1]\n",
    "print(A)\n",
    "print(HEAPSORT(A))"
   ]
  },
  {
   "cell_type": "code",
   "execution_count": 9,
   "metadata": {},
   "outputs": [
    {
     "name": "stdout",
     "output_type": "stream",
     "text": [
      "[3, 1, 4, 9, 6, 7, 5, 8, 2, 10]\n",
      "[1, 2, 3, 4, 5, 6, 7, 8, 9, 10]\n"
     ]
    }
   ],
   "source": [
    "#另一种解法 \n",
    "def sift_down(arr, start, end):\n",
    "    root = start\n",
    "    while True:\n",
    "        # 从root开始对最大堆调整\n",
    "        child = 2 * root + 1\n",
    "        if child > end:\n",
    "            break\n",
    "        # 找出两个child中交大的一个\n",
    "        if child + 1 <= end and arr[child] < arr[child + 1]:\n",
    "            child += 1\n",
    "        if arr[root] < arr[child]:\n",
    "            # 最大堆小于较大的child, 交换顺序\n",
    "            arr[root], arr[child] = arr[child], arr[root]\n",
    "            # 正在调整的节点设置为root\n",
    "            root = child\n",
    "        else:\n",
    "            # 无需调整的时候, 退出\n",
    "            break\n",
    "\n",
    "\n",
    "def heap_sort(arr):\n",
    "    # 从最后一个有子节点的孩子开始调整最大堆\n",
    "    first = len(arr) // 2 - 1\n",
    "    for start in range(first, -1, -1):\n",
    "        sift_down(arr, start, len(arr) - 1)\n",
    "\n",
    "    # 将最大的放到堆的最后一个, 堆-1, 继续调整排序\n",
    "    for end in range(len(arr) -1, 0, -1):\n",
    "        arr[0], arr[end] = arr[end], arr[0]\n",
    "        sift_down(arr, 0, end - 1)\n",
    "\n",
    "def main():\n",
    "    # [7, 95, 73, 65, 60, 77, 28, 62, 43]\n",
    "    # [3, 1, 4, 9, 6, 7, 5, 8, 2, 10]\n",
    "    l = [3, 1, 4, 9, 6, 7, 5, 8, 2, 10]\n",
    "    print (l)\n",
    "    heap_sort(l)\n",
    "    print (l)\n",
    "if __name__ == \"__main__\":\n",
    "    main()"
   ]
  },
  {
   "cell_type": "code",
   "execution_count": 1,
   "metadata": {
    "collapsed": true
   },
   "outputs": [],
   "source": [
    "#直接使用heapq\n",
    "import heapq"
   ]
  },
  {
   "cell_type": "code",
   "execution_count": 17,
   "metadata": {},
   "outputs": [
    {
     "name": "stdout",
     "output_type": "stream",
     "text": [
      "[3, 1, 4, 9, 6, 6, 5, 8, 2, 10]\n",
      "[1, 2, 3, 4, 5, 6, 6, 8, 9, 10]\n"
     ]
    }
   ],
   "source": [
    "l = [3, 1, 4, 9, 6, 6, 5, 8, 2, 10]\n",
    "print(l)\n",
    "res=[]\n",
    "heapq.heapify(l)\n",
    "for i in range(len(l)):\n",
    "    res.append(heapq.heappop(l))\n",
    "print(res)"
   ]
  }
 ],
 "metadata": {
  "kernelspec": {
   "display_name": "python3.6",
   "language": "python",
   "name": "python3.6"
  },
  "language_info": {
   "codemirror_mode": {
    "name": "ipython",
    "version": 3
   },
   "file_extension": ".py",
   "mimetype": "text/x-python",
   "name": "python",
   "nbconvert_exporter": "python",
   "pygments_lexer": "ipython3",
   "version": "3.6.2"
  }
 },
 "nbformat": 4,
 "nbformat_minor": 2
}
