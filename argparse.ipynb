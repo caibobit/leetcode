{
 "cells": [
  {
   "cell_type": "markdown",
   "metadata": {},
   "source": [
    "## argparse模块"
   ]
  },
  {
   "cell_type": "code",
   "execution_count": 1,
   "metadata": {
    "collapsed": true
   },
   "outputs": [],
   "source": [
    "import argparse\n",
    "parser = argparse.ArgumentParser()"
   ]
  },
  {
   "cell_type": "markdown",
   "metadata": {},
   "source": [
    "一个小例子"
   ]
  },
  {
   "cell_type": "code",
   "execution_count": null,
   "metadata": {
    "collapsed": true
   },
   "outputs": [],
   "source": [
    "# %load prog.py\n",
    "import argparse\n",
    "\n",
    "parser = argparse.ArgumentParser(description='Process some integers.')\n",
    "parser.add_argument('integers', metavar='N', type=int, nargs='+',\n",
    "                    help='an integer for the accumulator')\n",
    "parser.add_argument('--sum', dest='accumulate', action='store_const',\n",
    "                    const=sum, default=max,\n",
    "                    help='sum the integers (default: find the max)')\n",
    "\n",
    "args = parser.parse_args()\n",
    "print(args)\n",
    "print(args.accumulate(args.integers))\n"
   ]
  },
  {
   "cell_type": "code",
   "execution_count": 26,
   "metadata": {},
   "outputs": [
    {
     "name": "stdout",
     "output_type": "stream",
     "text": [
      "usage: prog.py [-h] [--sum] N [N ...]\n",
      "\n",
      "Process some integers.\n",
      "\n",
      "positional arguments:\n",
      "  N           an integer for the accumulator\n",
      "\n",
      "optional arguments:\n",
      "  -h, --help  show this help message and exit\n",
      "  --sum       sum the integers (default: find the max)\n"
     ]
    }
   ],
   "source": [
    "%run prog.py  -h"
   ]
  },
  {
   "cell_type": "markdown",
   "metadata": {
    "collapsed": true
   },
   "source": [
    "### ArgumentParser objects常用的parameter\n",
    "prog  usage: @ [-h] 中@的部分，不定义默认为args[0]，也就是代码保存的名字  \n",
    "description -h的时候给予说明   \n",
    "epilog  -h的时候最后面的结束语  \n",
    "prefix_chars 可以识别的前缀，不定义默认为-，可以定义为prefix_chars='-+'就可以识别‘+f‘  \n",
    "add_help 是否自动生成help提示 默认为True  "
   ]
  },
  {
   "cell_type": "markdown",
   "metadata": {},
   "source": [
    "### The add_argument() method\n",
    "name or flag  \n",
    "分为option 和position两种"
   ]
  },
  {
   "cell_type": "code",
   "execution_count": 54,
   "metadata": {},
   "outputs": [
    {
     "data": {
      "text/plain": [
       "_StoreAction(option_strings=[], dest='bar', nargs=None, const=None, default=None, type=None, choices=None, help=None, metavar=None)"
      ]
     },
     "execution_count": 54,
     "metadata": {},
     "output_type": "execute_result"
    }
   ],
   "source": [
    "#position\n",
    "parser.add_argument('bar')\n",
    "#仅仅通过位置来辨识的参数"
   ]
  },
  {
   "cell_type": "code",
   "execution_count": 55,
   "metadata": {},
   "outputs": [
    {
     "data": {
      "text/plain": [
       "_StoreAction(option_strings=['-f', '--foo'], dest='foo', nargs=None, const=None, default=None, type=None, choices=None, help=None, metavar=None)"
      ]
     },
     "execution_count": 55,
     "metadata": {},
     "output_type": "execute_result"
    }
   ],
   "source": [
    "#option\n",
    "parser.add_argument('-f','--foo')\n",
    "#通过前置标志来标识后面的参数"
   ]
  },
  {
   "cell_type": "markdown",
   "metadata": {},
   "source": [
    "action表示如何处理参数"
   ]
  },
  {
   "cell_type": "code",
   "execution_count": 56,
   "metadata": {},
   "outputs": [
    {
     "data": {
      "text/plain": [
       "Namespace(bar='b', foo='1')"
      ]
     },
     "execution_count": 56,
     "metadata": {},
     "output_type": "execute_result"
    }
   ],
   "source": [
    "#store(也是默认的类型)\n",
    "parser.parse_args(['b','-f','1'])"
   ]
  },
  {
   "cell_type": "code",
   "execution_count": 4,
   "metadata": {},
   "outputs": [
    {
     "data": {
      "text/plain": [
       "Namespace(bat=True, baz=True)"
      ]
     },
     "execution_count": 4,
     "metadata": {},
     "output_type": "execute_result"
    }
   ],
   "source": [
    "#store_const（存储常量，使用这个参数默认代表了一个常量） \n",
    "#store_true(默认值与其相反，也就是不调用的情况下，调用了就和定义一质)\n",
    "parser.add_argument('--baz', action='store_false')\n",
    "parser.add_argument('--bat', action='store_true')\n",
    "parser.parse_args(['--bat'])"
   ]
  },
  {
   "cell_type": "code",
   "execution_count": 2,
   "metadata": {},
   "outputs": [
    {
     "data": {
      "text/plain": [
       "Namespace(foo=['1', '2'])"
      ]
     },
     "execution_count": 2,
     "metadata": {},
     "output_type": "execute_result"
    }
   ],
   "source": [
    "#append的用法 将同一个命令行后面饿的参数保存在list中\n",
    "parser.add_argument('--foo', action='append')\n",
    "parser.parse_args('--foo 1 --foo 2'.split())"
   ]
  },
  {
   "cell_type": "markdown",
   "metadata": {},
   "source": [
    "count 可以计算短命令行出现的次数  \n",
    "parser.add_argument('--verbose', '-v', action='count')  \n",
    "parser.parse_args(['-vvv'])  \n",
    "输出：Namespace(verbose=3)  \n",
    "version  表示当前的版本号，常见用法：\n",
    "> import argparse  \n",
    "> parser = argparse.ArgumentParser(prog='PROG')  \n",
    "> parser.add_argument('--version', action='version', version='%(prog)s 2.0')  \n",
    ">parser.parse_args(['--version'])  \n",
    "输出：PROG 2.0"
   ]
  },
  {
   "cell_type": "code",
   "execution_count": 2,
   "metadata": {},
   "outputs": [
    {
     "data": {
      "text/plain": [
       "Namespace(gai=['j', 'm', 'n', 's'])"
      ]
     },
     "execution_count": 2,
     "metadata": {},
     "output_type": "execute_result"
    }
   ],
   "source": [
    "#narg  表示可以跟几个参数\n",
    "parser.add_argument('--gai',nargs=4)\n",
    "parser.parse_args('--gai j m n s'.split())\n",
    "#指定数字那么参数个数必须一致\n",
    "#如果narg='?'\n",
    "\"\"\"\n",
    "parser.add_argument('--foo', nargs='?', const='c', default='d')\n",
    "parser.add_argument('bar', nargs='?', default='d')\n",
    "parser.parse_args(['XX', '--foo', 'YY'])\n",
    "输出：Namespace(bar='XX', foo='YY')\n",
    "parser.parse_args(['XX', '--foo'])\n",
    "输出：Namespace(bar='XX', foo='c')\n",
    "parser.parse_args([])\n",
    "输出：Namespace(bar='d', foo='d')\n",
    "\"\"\"\n",
    "# narg='*' 那么个数没有限制，返回list[参数。参数。。。]\n",
    "# narg='+'  和*一样，除了没有指定参数时会报错"
   ]
  },
  {
   "cell_type": "markdown",
   "metadata": {},
   "source": [
    "choices=  可以是一个范围choices=range(5,9)也可以是list  choices=[1,2,3]  \n",
    "requeired   对于可选参数来定义的，默认为false也就是不是必须输入的如果定义  \n",
    "required=True 那么这个可选项必须要有。  \n",
    "help  就是help='help信息'  \n",
    "matavar help信息中-foo 后面的信息 parser.add_argument('--foo',metavar=)  \n",
    "dest 使用parse_args()返回参数时，value前面的内容"
   ]
  },
  {
   "cell_type": "markdown",
   "metadata": {},
   "source": [
    "### add_argument_group\n",
    "添加分组  \n",
    "group = parser.add_argument_group('group')  \n",
    "取消原先的 position 和 optional 参数类型 实现自定义分组"
   ]
  },
  {
   "cell_type": "markdown",
   "metadata": {},
   "source": [
    "### add_mutually_exclusive_group(required=False)\n",
    "group = parser.add_mutually_exclusive_group()  \n",
    "group.add_argument()添加的将存在互斥的关系不能同时使用"
   ]
  },
  {
   "cell_type": "code",
   "execution_count": null,
   "metadata": {
    "collapsed": true
   },
   "outputs": [],
   "source": []
  }
 ],
 "metadata": {
  "kernelspec": {
   "display_name": "Python 3",
   "language": "python",
   "name": "python3"
  },
  "language_info": {
   "codemirror_mode": {
    "name": "ipython",
    "version": 3
   },
   "file_extension": ".py",
   "mimetype": "text/x-python",
   "name": "python",
   "nbconvert_exporter": "python",
   "pygments_lexer": "ipython3",
   "version": "3.6.1"
  }
 },
 "nbformat": 4,
 "nbformat_minor": 2
}
